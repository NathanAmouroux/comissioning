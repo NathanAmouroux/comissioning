{
 "cells": [
  {
   "cell_type": "code",
   "execution_count": 1,
   "id": "0690743e-0f96-4ccb-89b9-0345136cb77c",
   "metadata": {
    "execution": {
     "iopub.execute_input": "2024-02-01T14:10:52.800108Z",
     "iopub.status.busy": "2024-02-01T14:10:52.799774Z",
     "iopub.status.idle": "2024-02-01T14:10:53.263846Z",
     "shell.execute_reply": "2024-02-01T14:10:53.263401Z",
     "shell.execute_reply.started": "2024-02-01T14:10:52.800089Z"
    }
   },
   "outputs": [],
   "source": [
    "import numpy as np\n",
    "import lsst.daf.butler as dafButler\n",
    "import sys\n",
    "import os\n",
    "from configparser import ConfigParser"
   ]
  },
  {
   "cell_type": "code",
   "execution_count": 21,
   "id": "3322311a-be27-4457-91f3-8a58b951936f",
   "metadata": {
    "execution": {
     "iopub.execute_input": "2024-02-01T14:28:15.736617Z",
     "iopub.status.busy": "2024-02-01T14:28:15.736410Z",
     "iopub.status.idle": "2024-02-01T14:28:15.754965Z",
     "shell.execute_reply": "2024-02-01T14:28:15.754534Z",
     "shell.execute_reply.started": "2024-02-01T14:28:15.736602Z"
    }
   },
   "outputs": [],
   "source": [
    "# Get configs\n",
    "config = ConfigParser()\n",
    "config.read(\"../config.ini\")\n",
    "repo = config.get('base', 'embargo_repo')\n",
    "## Set outpath \n",
    "collection = \"LSSTComCam/calib\"\n",
    "collection = \"LATISS/runs/AUXTEL_DRP_IMAGING_2023-11A-10A-09AB-08ABC-07AB-05AB/w_2023_46/PREOPS-4553\"\n",
    "exp = collection.split('/')[0]\n",
    "outpath = config.get(exp, 'base_save_path') + 'save_collections/paths/' + f\"{collection.split('/')[-1]}\""
   ]
  },
  {
   "cell_type": "code",
   "execution_count": 22,
   "id": "cd6106d0-9518-46d8-ac56-46c0e2aada5f",
   "metadata": {
    "execution": {
     "iopub.execute_input": "2024-02-01T14:28:15.911659Z",
     "iopub.status.busy": "2024-02-01T14:28:15.911178Z",
     "iopub.status.idle": "2024-02-01T14:28:16.174949Z",
     "shell.execute_reply": "2024-02-01T14:28:16.174493Z",
     "shell.execute_reply.started": "2024-02-01T14:28:15.911633Z"
    }
   },
   "outputs": [
    {
     "name": "stdout",
     "output_type": "stream",
     "text": [
      "Butler successfuly instatiated\n"
     ]
    }
   ],
   "source": [
    "butler = dafButler.Butler(repo, collections=collection)\n",
    "registry = butler.registry\n",
    "print(\"Butler successfuly instatiated\")"
   ]
  },
  {
   "cell_type": "code",
   "execution_count": 23,
   "id": "55924ff8-e93c-4586-a173-f9868a8248a7",
   "metadata": {
    "execution": {
     "iopub.execute_input": "2024-02-01T14:28:16.542225Z",
     "iopub.status.busy": "2024-02-01T14:28:16.542064Z",
     "iopub.status.idle": "2024-02-01T14:28:16.548109Z",
     "shell.execute_reply": "2024-02-01T14:28:16.547731Z",
     "shell.execute_reply.started": "2024-02-01T14:28:16.542210Z"
    }
   },
   "outputs": [],
   "source": [
    "chain = registry.getCollectionChain(collection)\n",
    "calibs = [c for c in sorted(chain, reverse = True) if exp + \"/calib\" in c] #Can be a problem in the future if path differs"
   ]
  },
  {
   "cell_type": "code",
   "execution_count": 24,
   "id": "44b8a15a-56c9-4741-93bb-b8e1eae1a904",
   "metadata": {
    "execution": {
     "iopub.execute_input": "2024-02-01T14:28:16.724228Z",
     "iopub.status.busy": "2024-02-01T14:28:16.724106Z",
     "iopub.status.idle": "2024-02-01T14:28:16.726421Z",
     "shell.execute_reply": "2024-02-01T14:28:16.726046Z",
     "shell.execute_reply.started": "2024-02-01T14:28:16.724217Z"
    }
   },
   "outputs": [
    {
     "name": "stdout",
     "output_type": "stream",
     "text": [
      "['LATISS/calib/DM-41633/flat-i', 'LATISS/calib/DM-41319/unbounded', 'LATISS/calib/DM-41319', 'LATISS/calib/DM-40904//flat-r', 'LATISS/calib/DM-40904//flat-i', 'LATISS/calib/DM-40904//flat-g', 'LATISS/calib/DM-40904//defects', 'LATISS/calib/DM-40904//dark', 'LATISS/calib/DM-40904//bias', 'LATISS/calib/DM-39505/crosstalk.20230602', 'LATISS/calib/DM-38946/noRGseq/flat-r.20230503', 'LATISS/calib/DM-38946/noRGseq/flat-i.20230503', 'LATISS/calib/DM-38946/noRGseq/flat-g.20230503', 'LATISS/calib/DM-38946/noRGseq/dark.20230503', 'LATISS/calib/DM-38946/noRGseq/bias.20230503', 'LATISS/calib/DM-37587/flat-SDSSr.20230113a', 'LATISS/calib/DM-37587/flat-OG550.20230113a', 'LATISS/calib/DM-37587/flat-BG40.20230113a', 'LATISS/calib/DM-36719/flat-SDSSr.20221107', 'LATISS/calib/DM-36719/flat-SDSSi.20221107', 'LATISS/calib/DM-36719/flat-SDSSg.20221107', 'LATISS/calib/DM-36719/dark.20221107', 'LATISS/calib/DM-36719/bias.20221107', 'LATISS/calib/DM-36484/flat-SDSSr.20221006a', 'LATISS/calib/DM-36484/flat-SDSSi.20221006a', 'LATISS/calib/DM-36484/flat-SDSSg.20221006a', 'LATISS/calib/DM-36484/dark.20221006a', 'LATISS/calib/DM-36484/bias.20221005a', 'LATISS/calib/DM-33875']\n"
     ]
    }
   ],
   "source": [
    "print(calibs)"
   ]
  },
  {
   "cell_type": "code",
   "execution_count": 25,
   "id": "478620cb-c13f-401b-9ecd-0219cea1f5a8",
   "metadata": {
    "execution": {
     "iopub.execute_input": "2024-02-01T14:28:16.901923Z",
     "iopub.status.busy": "2024-02-01T14:28:16.901798Z",
     "iopub.status.idle": "2024-02-01T14:28:16.904951Z",
     "shell.execute_reply": "2024-02-01T14:28:16.904563Z",
     "shell.execute_reply.started": "2024-02-01T14:28:16.901912Z"
    }
   },
   "outputs": [
    {
     "data": {
      "text/plain": [
       "('LATISS/runs/AUXTEL_DRP_IMAGING_2023-11A-10A-09AB-08ABC-07AB-05AB/w_2023_46/PREOPS-4553/20231121T161502Z',\n",
       " 'LATISS/runs/AUXTEL_DRP_IMAGING_2023-11A-10A-09AB-08ABC-07AB-05AB/w_2023_46/PREOPS-4553/20231120T224314Z',\n",
       " 'LATISS/runs/AUXTEL_DRP_IMAGING_2023-11A-10A-09AB-08ABC-07AB-05AB/w_2023_46/PREOPS-4553/20231120T211410Z',\n",
       " 'LATISS/runs/AUXTEL_DRP_IMAGING_2023-11A-10A-09AB-08ABC-07AB-05AB/w_2023_46/PREOPS-4553/20231120T163323Z',\n",
       " 'LATISS/runs/AUXTEL_DRP_IMAGING_2023-11A-10A-09AB-08ABC-07AB-05AB/w_2023_46/PREOPS-4553/20231120T151516Z',\n",
       " 'LATISS/runs/AUXTEL_DRP_IMAGING_2023-11A-10A-09AB-08ABC-07AB-05AB/w_2023_46/PREOPS-4553/20231120T144523Z',\n",
       " 'LATISS/runs/AUXTEL_DRP_IMAGING_2023-11A-10A-09AB-08ABC-07AB-05AB/w_2023_46/PREOPS-4553/20231118T014944Z',\n",
       " 'LATISS/runs/AUXTEL_DRP_IMAGING_2023-11A-10A-09AB-08ABC-07AB-05AB/w_2023_46/PREOPS-4553/20231118T002612Z',\n",
       " 'LATISS/runs/AUXTEL_DRP_IMAGING_2023-11A-10A-09AB-08ABC-07AB-05AB/w_2023_46/PREOPS-4553/20231117T184251Z',\n",
       " 'LATISS/runs/AUXTEL_DRP_IMAGING_2023-11A-10A-09AB-08ABC-07AB-05AB/w_2023_46/PREOPS-4553/20231117T150928Z',\n",
       " 'LATISS/raw/all',\n",
       " 'LATISS/calib/DM-41633/flat-i',\n",
       " 'LATISS/calib/DM-40904//bias',\n",
       " 'LATISS/calib/DM-40904//dark',\n",
       " 'LATISS/calib/DM-40904//flat-g',\n",
       " 'LATISS/calib/DM-40904//flat-r',\n",
       " 'LATISS/calib/DM-40904//flat-i',\n",
       " 'LATISS/calib/DM-40904//defects',\n",
       " 'LATISS/calib/DM-39505/crosstalk.20230602',\n",
       " 'LATISS/calib/DM-38946/noRGseq/bias.20230503',\n",
       " 'LATISS/calib/DM-38946/noRGseq/dark.20230503',\n",
       " 'LATISS/calib/DM-38946/noRGseq/flat-g.20230503',\n",
       " 'LATISS/calib/DM-38946/noRGseq/flat-r.20230503',\n",
       " 'LATISS/calib/DM-38946/noRGseq/flat-i.20230503',\n",
       " 'u/czw/DM-37811/parOStest.20230202a/calib/flat-OG550.20230207a',\n",
       " 'u/czw/DM-37811/parOStest.20230202a/calib/flat-BG40.20230207a',\n",
       " 'u/czw/DM-37811/parOStest.20230202a/calib/flat-SDSSr.20230203a',\n",
       " 'u/czw/DM-37811/parOStest.20230202a/calib/flat-SDSSg.20230203a',\n",
       " 'u/czw/DM-37811/parOStest.20230202a/calib/flat-SDSSi.20230202a',\n",
       " 'u/czw/DM-37811/parOStest.20230202a/calib/dark.20230202a',\n",
       " 'u/czw/DM-37811/parOStest.20230202a/calib/bias.20230202a',\n",
       " 'LATISS/calib/DM-37587/flat-BG40.20230113a',\n",
       " 'LATISS/calib/DM-37587/flat-OG550.20230113a',\n",
       " 'LATISS/calib/DM-37587/flat-SDSSr.20230113a',\n",
       " 'LATISS/calib/DM-36719/bias.20221107',\n",
       " 'LATISS/calib/DM-36719/dark.20221107',\n",
       " 'LATISS/calib/DM-36719/flat-SDSSi.20221107',\n",
       " 'LATISS/calib/DM-36719/flat-SDSSr.20221107',\n",
       " 'LATISS/calib/DM-36719/flat-SDSSg.20221107',\n",
       " 'LATISS/calib/DM-36484/bias.20221005a',\n",
       " 'LATISS/calib/DM-36484/dark.20221006a',\n",
       " 'LATISS/calib/DM-36484/flat-SDSSg.20221006a',\n",
       " 'LATISS/calib/DM-36484/flat-SDSSr.20221006a',\n",
       " 'LATISS/calib/DM-36484/flat-SDSSi.20221006a',\n",
       " 'u/czw/defects.20220608',\n",
       " 'LATISS/calib/DM-33875',\n",
       " 'u/czw/DM-28920/calib/bias.20210720',\n",
       " 'u/czw/DM-28920/calib/dark.20210720a',\n",
       " 'u/calib/DM-32209-20211013a-g',\n",
       " 'u/calib/DM-32209-20211013a-felh',\n",
       " 'u/czw/DM-28920/calib/flat.20210720',\n",
       " 'u/czw/DM-28920/calib/defect.20210720a',\n",
       " 'LATISS/calib/DM-41319',\n",
       " 'LATISS/calib/DM-41319/unbounded',\n",
       " 'refcats/DM-28636',\n",
       " 'refcats/DM-33444',\n",
       " 'refcats/DM-39298',\n",
       " 'skymaps',\n",
       " 'LATISS/fgcmcal/lookuptable/DM-41796')"
      ]
     },
     "execution_count": 25,
     "metadata": {},
     "output_type": "execute_result"
    }
   ],
   "source": [
    "chain"
   ]
  },
  {
   "cell_type": "code",
   "execution_count": 12,
   "id": "db412a7f-ee00-45c4-bc6b-a60300c42ce7",
   "metadata": {
    "execution": {
     "iopub.execute_input": "2024-02-01T14:21:34.956356Z",
     "iopub.status.busy": "2024-02-01T14:21:34.956162Z",
     "iopub.status.idle": "2024-02-01T14:21:34.959775Z",
     "shell.execute_reply": "2024-02-01T14:21:34.959409Z",
     "shell.execute_reply.started": "2024-02-01T14:21:34.956343Z"
    }
   },
   "outputs": [],
   "source": [
    "## Find out which calibration types are avaible\n",
    "c_types = np.array([\"flat-i\", \"flat-z\", \"flat-y\", \"flat-g\", \"flat-r\", \"bias\", \"defects\", \"dark\", \"crosstalk\"]) #Exhaustive list\n",
    "calib_types, calib_names = [], []\n",
    "\n",
    "for i, element in enumerate(calibs):\n",
    "    for calib_t in c_types:\n",
    "        if calib_t in element and calib_t not in calib_types:\n",
    "            print(f\"Found {calib_t}.\")\n",
    "            calib_types.append(calib_t)\n",
    "            calib_names.append(element)"
   ]
  },
  {
   "cell_type": "code",
   "execution_count": null,
   "id": "fc4b3235-698a-4574-a390-8c6b2bb92faa",
   "metadata": {},
   "outputs": [],
   "source": []
  }
 ],
 "metadata": {
  "kernelspec": {
   "display_name": "LSST",
   "language": "python",
   "name": "lsst"
  },
  "language_info": {
   "codemirror_mode": {
    "name": "ipython",
    "version": 3
   },
   "file_extension": ".py",
   "mimetype": "text/x-python",
   "name": "python",
   "nbconvert_exporter": "python",
   "pygments_lexer": "ipython3",
   "version": "3.11.7"
  }
 },
 "nbformat": 4,
 "nbformat_minor": 5
}
