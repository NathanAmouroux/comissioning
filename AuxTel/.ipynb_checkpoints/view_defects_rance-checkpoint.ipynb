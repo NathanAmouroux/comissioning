{
 "cells": [
  {
   "cell_type": "code",
   "execution_count": 1,
   "id": "cbccf611-5e2a-490f-bb2e-4530a8cd158f",
   "metadata": {
    "execution": {
     "iopub.execute_input": "2023-11-21T09:31:41.528843Z",
     "iopub.status.busy": "2023-11-21T09:31:41.528284Z",
     "iopub.status.idle": "2023-11-21T09:31:42.216460Z",
     "shell.execute_reply": "2023-11-21T09:31:42.216079Z",
     "shell.execute_reply.started": "2023-11-21T09:31:41.528826Z"
    },
    "tags": []
   },
   "outputs": [],
   "source": [
    "import numpy as np\n",
    "#from lsst.daf.butler import Butler\n",
    "import lsst.daf.butler as dafButler\n",
    "import matplotlib as mpl\n",
    "import matplotlib.pyplot as plt\n",
    "from matplotlib.collections import PatchCollection\n",
    "from matplotlib.patches import Rectangle"
   ]
  },
  {
   "cell_type": "code",
   "execution_count": 2,
   "id": "46e56028-b019-4acd-b0f2-f9144515cfd3",
   "metadata": {
    "execution": {
     "iopub.execute_input": "2023-11-21T09:32:15.044265Z",
     "iopub.status.busy": "2023-11-21T09:32:15.043858Z",
     "iopub.status.idle": "2023-11-21T09:32:15.048062Z",
     "shell.execute_reply": "2023-11-21T09:32:15.047716Z",
     "shell.execute_reply.started": "2023-11-21T09:32:15.044247Z"
    },
    "tags": []
   },
   "outputs": [],
   "source": [
    "def test_for_defects(butler, collection) :\n",
    "    ## This function just tries to get a defect from the collection.\n",
    "    ## If successfull it passes True, otherwise False.\n",
    "    try :\n",
    "        butler.get('defects', instrument='LATISS', detector=0, collections=collection)\n",
    "        exists = True\n",
    "    except :\n",
    "        exists = False\n",
    "    return exists\n",
    "\n",
    "def make_error_boxes(ax, xdata, ydata, xerror, yerror, facecolor='k', edgecolor='none', alpha=1):\n",
    "    ## This function just draws in boxes in the shapes of the defects.\n",
    "\n",
    "    # Loop over data points; create box from errors at each point\n",
    "    errorboxes = [Rectangle((x, y), xe, ye, rotation_point='center')\n",
    "                  for x, y, xe, ye in zip(xdata, ydata, xerror, yerror)]\n",
    "\n",
    "    # Create patch collection with specified colour/alpha\n",
    "    pc = PatchCollection(errorboxes, facecolor=facecolor, alpha=alpha,\n",
    "                         edgecolor=edgecolor)\n",
    "\n",
    "    # Add collection to axes\n",
    "    ax.add_collection(pc)\n",
    "\n",
    "    # Plot errorbars\n",
    "    artists = ax.errorbar(xdata+0.5*xerror, ydata+0.5*yerror, xerr=0.5*xerror, yerr=0.5*yerror,\n",
    "                          fmt='none', ecolor='k')\n",
    "\n",
    "    return artists"
   ]
  },
  {
   "cell_type": "code",
   "execution_count": 3,
   "id": "afe62a71-6872-4e60-ba1b-011c02d6ba6f",
   "metadata": {
    "execution": {
     "iopub.execute_input": "2023-11-21T09:32:20.134967Z",
     "iopub.status.busy": "2023-11-21T09:32:20.134586Z",
     "iopub.status.idle": "2023-11-21T09:32:20.490633Z",
     "shell.execute_reply": "2023-11-21T09:32:20.490087Z",
     "shell.execute_reply.started": "2023-11-21T09:32:20.134952Z"
    },
    "tags": []
   },
   "outputs": [
    {
     "ename": "FileNotFoundError",
     "evalue": "Config location file:///sps/lsst/groups/auxtel/softs/shared/auxteldm_gen3/data/ does not exist. (resolved from alias '/sps/lsst/groups/auxtel/softs/shared/auxteldm_gen3/data/')",
     "output_type": "error",
     "traceback": [
      "\u001b[0;31m---------------------------------------------------------------------------\u001b[0m",
      "\u001b[0;31mFileNotFoundError\u001b[0m                         Traceback (most recent call last)",
      "File \u001b[0;32m/opt/lsst/software/stack/stack/miniconda3-py38_4.9.2-7.0.1/Linux64/daf_butler/gfc0b858265+07967ebf72/python/lsst/daf/butler/_butlerConfig.py:133\u001b[0m, in \u001b[0;36mButlerConfig.__init__\u001b[0;34m(self, other, searchPaths, without_datastore)\u001b[0m\n\u001b[1;32m    132\u001b[0m \u001b[38;5;28;01mtry\u001b[39;00m:\n\u001b[0;32m--> 133\u001b[0m     butlerConfig \u001b[38;5;241m=\u001b[39m \u001b[43mConfig\u001b[49m\u001b[43m(\u001b[49m\u001b[43mother\u001b[49m\u001b[43m)\u001b[49m\n\u001b[1;32m    134\u001b[0m \u001b[38;5;28;01mexcept\u001b[39;00m \u001b[38;5;167;01mFileNotFoundError\u001b[39;00m \u001b[38;5;28;01mas\u001b[39;00m e:\n\u001b[1;32m    135\u001b[0m     \u001b[38;5;66;03m# No reason to talk about aliases unless we were given a\u001b[39;00m\n\u001b[1;32m    136\u001b[0m     \u001b[38;5;66;03m# string and the alias was not resolved.\u001b[39;00m\n",
      "File \u001b[0;32m/opt/lsst/software/stack/stack/miniconda3-py38_4.9.2-7.0.1/Linux64/daf_butler/gfc0b858265+07967ebf72/python/lsst/daf/butler/core/config.py:281\u001b[0m, in \u001b[0;36mConfig.__init__\u001b[0;34m(self, other)\u001b[0m\n\u001b[1;32m    279\u001b[0m \u001b[38;5;28;01melif\u001b[39;00m \u001b[38;5;28misinstance\u001b[39m(other, \u001b[38;5;28mstr\u001b[39m \u001b[38;5;241m|\u001b[39m ResourcePath \u001b[38;5;241m|\u001b[39m Path):\n\u001b[1;32m    280\u001b[0m     \u001b[38;5;66;03m# if other is a string, assume it is a file path/URI\u001b[39;00m\n\u001b[0;32m--> 281\u001b[0m     \u001b[38;5;28;43mself\u001b[39;49m\u001b[38;5;241;43m.\u001b[39;49m\u001b[43m__initFromUri\u001b[49m\u001b[43m(\u001b[49m\u001b[43mother\u001b[49m\u001b[43m)\u001b[49m\n\u001b[1;32m    282\u001b[0m     \u001b[38;5;28mself\u001b[39m\u001b[38;5;241m.\u001b[39m_processExplicitIncludes()\n",
      "File \u001b[0;32m/opt/lsst/software/stack/stack/miniconda3-py38_4.9.2-7.0.1/Linux64/daf_butler/gfc0b858265+07967ebf72/python/lsst/daf/butler/core/config.py:387\u001b[0m, in \u001b[0;36mConfig.__initFromUri\u001b[0;34m(self, path)\u001b[0m\n\u001b[1;32m    386\u001b[0m \u001b[38;5;28;01mif\u001b[39;00m \u001b[38;5;129;01mnot\u001b[39;00m uri\u001b[38;5;241m.\u001b[39mexists():\n\u001b[0;32m--> 387\u001b[0m     \u001b[38;5;28;01mraise\u001b[39;00m \u001b[38;5;167;01mFileNotFoundError\u001b[39;00m(\u001b[38;5;124mf\u001b[39m\u001b[38;5;124m\"\u001b[39m\u001b[38;5;124mConfig location \u001b[39m\u001b[38;5;132;01m{\u001b[39;00muri\u001b[38;5;132;01m}\u001b[39;00m\u001b[38;5;124m does not exist.\u001b[39m\u001b[38;5;124m\"\u001b[39m)\n\u001b[1;32m    388\u001b[0m \u001b[38;5;28;01mraise\u001b[39;00m \u001b[38;5;167;01mRuntimeError\u001b[39;00m(\u001b[38;5;124mf\u001b[39m\u001b[38;5;124m\"\u001b[39m\u001b[38;5;124mThe Config URI does not have a supported extension: \u001b[39m\u001b[38;5;132;01m{\u001b[39;00muri\u001b[38;5;132;01m}\u001b[39;00m\u001b[38;5;124m\"\u001b[39m)\n",
      "\u001b[0;31mFileNotFoundError\u001b[0m: Config location file:///sps/lsst/groups/auxtel/softs/shared/auxteldm_gen3/data/ does not exist.",
      "\nThe above exception was the direct cause of the following exception:\n",
      "\u001b[0;31mFileNotFoundError\u001b[0m                         Traceback (most recent call last)",
      "Cell \u001b[0;32mIn[3], line 14\u001b[0m\n\u001b[1;32m      3\u001b[0m \u001b[38;5;66;03m## GET THE COLLECTIONS THAT HAVE DEFECTS\u001b[39;00m\n\u001b[1;32m      4\u001b[0m \u001b[38;5;66;03m#registry = Butler.registry\u001b[39;00m\n\u001b[1;32m      5\u001b[0m \u001b[38;5;66;03m#defect_collections = [c for c in sorted(registry.queryCollections()) if test_for_defects(butler, c)]\u001b[39;00m\n\u001b[0;32m   (...)\u001b[0m\n\u001b[1;32m     10\u001b[0m \n\u001b[1;32m     11\u001b[0m \u001b[38;5;66;03m## NOW VIEW ONE OF THE DEFECTS\u001b[39;00m\n\u001b[1;32m     12\u001b[0m collection \u001b[38;5;241m=\u001b[39m \u001b[38;5;124m'\u001b[39m\u001b[38;5;124mu/plazas/DM-38563.combined.defects.type_VALUE.hot_3.cold_0.9.2023OCT04.2/20231005T022801Z\u001b[39m\u001b[38;5;124m'\u001b[39m\n\u001b[0;32m---> 14\u001b[0m butler \u001b[38;5;241m=\u001b[39m \u001b[43mdafButler\u001b[49m\u001b[38;5;241;43m.\u001b[39;49m\u001b[43mButler\u001b[49m\u001b[43m(\u001b[49m\u001b[43mrepo\u001b[49m\u001b[43m,\u001b[49m\u001b[43m \u001b[49m\u001b[43mcollections\u001b[49m\u001b[38;5;241;43m=\u001b[39;49m\u001b[43mcollection\u001b[49m\u001b[43m)\u001b[49m\n",
      "File \u001b[0;32m/opt/lsst/software/stack/stack/miniconda3-py38_4.9.2-7.0.1/Linux64/daf_butler/gfc0b858265+07967ebf72/python/lsst/daf/butler/_butler.py:231\u001b[0m, in \u001b[0;36mButler.__init__\u001b[0;34m(self, config, butler, collections, run, searchPaths, writeable, inferDefaults, without_datastore, **kwargs)\u001b[0m\n\u001b[1;32m    229\u001b[0m     \u001b[38;5;28mself\u001b[39m\u001b[38;5;241m.\u001b[39m_config: ButlerConfig \u001b[38;5;241m=\u001b[39m butler\u001b[38;5;241m.\u001b[39m_config\n\u001b[1;32m    230\u001b[0m \u001b[38;5;28;01melse\u001b[39;00m:\n\u001b[0;32m--> 231\u001b[0m     \u001b[38;5;28mself\u001b[39m\u001b[38;5;241m.\u001b[39m_config \u001b[38;5;241m=\u001b[39m \u001b[43mButlerConfig\u001b[49m\u001b[43m(\u001b[49m\u001b[43mconfig\u001b[49m\u001b[43m,\u001b[49m\u001b[43m \u001b[49m\u001b[43msearchPaths\u001b[49m\u001b[38;5;241;43m=\u001b[39;49m\u001b[43msearchPaths\u001b[49m\u001b[43m,\u001b[49m\u001b[43m \u001b[49m\u001b[43mwithout_datastore\u001b[49m\u001b[38;5;241;43m=\u001b[39;49m\u001b[43mwithout_datastore\u001b[49m\u001b[43m)\u001b[49m\n\u001b[1;32m    232\u001b[0m     \u001b[38;5;28;01mtry\u001b[39;00m:\n\u001b[1;32m    233\u001b[0m         butlerRoot \u001b[38;5;241m=\u001b[39m \u001b[38;5;28mself\u001b[39m\u001b[38;5;241m.\u001b[39m_config\u001b[38;5;241m.\u001b[39mget(\u001b[38;5;124m\"\u001b[39m\u001b[38;5;124mroot\u001b[39m\u001b[38;5;124m\"\u001b[39m, \u001b[38;5;28mself\u001b[39m\u001b[38;5;241m.\u001b[39m_config\u001b[38;5;241m.\u001b[39mconfigDir)\n",
      "File \u001b[0;32m/opt/lsst/software/stack/stack/miniconda3-py38_4.9.2-7.0.1/Linux64/daf_butler/gfc0b858265+07967ebf72/python/lsst/daf/butler/_butlerConfig.py:154\u001b[0m, in \u001b[0;36mButlerConfig.__init__\u001b[0;34m(self, other, searchPaths, without_datastore)\u001b[0m\n\u001b[1;32m    152\u001b[0m     \u001b[38;5;28;01melse\u001b[39;00m:\n\u001b[1;32m    153\u001b[0m         errmsg \u001b[38;5;241m=\u001b[39m \u001b[38;5;28mstr\u001b[39m(e)\n\u001b[0;32m--> 154\u001b[0m     \u001b[38;5;28;01mraise\u001b[39;00m \u001b[38;5;167;01mFileNotFoundError\u001b[39;00m(errmsg) \u001b[38;5;28;01mfrom\u001b[39;00m \u001b[38;5;21;01me\u001b[39;00m\n\u001b[1;32m    156\u001b[0m configFile \u001b[38;5;241m=\u001b[39m butlerConfig\u001b[38;5;241m.\u001b[39mconfigFile\n\u001b[1;32m    157\u001b[0m \u001b[38;5;28;01mif\u001b[39;00m configFile \u001b[38;5;129;01mis\u001b[39;00m \u001b[38;5;129;01mnot\u001b[39;00m \u001b[38;5;28;01mNone\u001b[39;00m:\n",
      "\u001b[0;31mFileNotFoundError\u001b[0m: Config location file:///sps/lsst/groups/auxtel/softs/shared/auxteldm_gen3/data/ does not exist. (resolved from alias '/sps/lsst/groups/auxtel/softs/shared/auxteldm_gen3/data/')"
     ]
    }
   ],
   "source": [
    "repo = '/sps/lsst/groups/auxtel/softs/shared/auxteldm_gen3/data/'\n",
    "\n",
    "## GET THE COLLECTIONS THAT HAVE DEFECTS\n",
    "#registry = Butler.registry\n",
    "#defect_collections = [c for c in sorted(registry.queryCollections()) if test_for_defects(butler, c)]\n",
    "\n",
    "#with open('defect_collections.txt', 'w') as f:\n",
    "#    for col in defect_collections :\n",
    "#        f.write(f\"{col}\\n\")\n",
    "\n",
    "## NOW VIEW ONE OF THE DEFECTS\n",
    "collection = 'u/plazas/DM-38563.combined.defects.type_VALUE.hot_3.cold_0.9.2023OCT04.2/20231005T022801Z'\n",
    "\n",
    "butler = dafButler.Butler(repo, collections=collection)"
   ]
  },
  {
   "cell_type": "code",
   "execution_count": null,
   "id": "960c8a1c-bec4-43eb-8405-b86c860b2b74",
   "metadata": {},
   "outputs": [],
   "source": [
    "## GET THE COLLECTIONS THAT HAVE DEFECTS\n",
    "#registry = Butler.registry\n",
    "#defect_collections = [c for c in sorted(registry.queryCollections()) if test_for_defects(butler, c)]\n",
    "\n",
    "#with open('defect_collections.txt', 'w') as f:\n",
    "#    for col in defect_collections :\n",
    "#        f.write(f\"{col}\\n\")\n",
    "\n",
    "\n",
    "## NOW VIEW ONE OF THE DEFECTS\n",
    "collection = 'u/plazas/DM-38563.combined.defects.type_VALUE.hot_3.cold_0.9.2023OCT04.2/20231005T022801Z'\n",
    "\n",
    "butler = dafButler.Butler(repo, collections=collection)\n",
    "defect_ = butler.get('defects', instrument='LATISS', detector=0, collections=collection)\n",
    "print(defect_)\n",
    "defect = defect_.toTable()[0]\n",
    "print(defect)\n",
    "plt.figure()\n",
    "#figsize = (3.5,3.5)\n",
    "fig, ax = plt.subplots(1,1)#, figsize=figsize)\n",
    "_ = make_error_boxes(ax, defect['x0'], defect['y0'], defect['width'], defect['height'])\n",
    "[ax.axhline(l, lw=0.1, c='k') for l in np.linspace(0,4000,3)]\n",
    "[ax.axvline(l, lw=0.1, c='k') for l in np.linspace(0,4000,9)]\n",
    "ax.set_xlim(-10,4010)\n",
    "ax.set_ylim(-10,4010)\n",
    "ax.set_aspect('equal')\n",
    "ax.set_xlabel('x')\n",
    "ax.set_ylabel('y')\n",
    "#plt.show()\n",
    "plt.savefig('/sps/lsst/users/tguillem/web/debug/defects_stack/defects.png')\n",
    "#plt.close()\n",
    "\n",
    "#plt.figure()\n",
    "#plt.imshow(defectArray_copy, origin='lower', vmin=0, vmax=1, cmap='tab10') #cmap='tab10' / cmap=cmapmine\n",
    "##bug\n",
    "##plt.imshow(defectArray_copy, origin='lower', vmin=0, vmax=1, cmap=cmapmine)# interpolation='none') #extent=[0,4072,0,100])\n",
    "#plt.colorbar()\n",
    "#p#lt.title(collection[0]+'\\n'+ detector_name)\n",
    "#p#lt.savefig(outpath_raft+'image_'+ccds[i_ccd]+'.png')\n",
    "#plt.close()"
   ]
  }
 ],
 "metadata": {
  "kernelspec": {
   "display_name": "LSST",
   "language": "python",
   "name": "lsst"
  },
  "language_info": {
   "codemirror_mode": {
    "name": "ipython",
    "version": 3
   },
   "file_extension": ".py",
   "mimetype": "text/x-python",
   "name": "python",
   "nbconvert_exporter": "python",
   "pygments_lexer": "ipython3",
   "version": "3.11.4"
  }
 },
 "nbformat": 4,
 "nbformat_minor": 5
}
