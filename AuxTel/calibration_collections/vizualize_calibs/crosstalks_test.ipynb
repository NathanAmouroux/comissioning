{
 "cells": [
  {
   "cell_type": "code",
   "execution_count": 1,
   "id": "cbccf611-5e2a-490f-bb2e-4530a8cd158f",
   "metadata": {
    "execution": {
     "iopub.execute_input": "2023-12-20T15:15:01.470143Z",
     "iopub.status.busy": "2023-12-20T15:15:01.469472Z",
     "iopub.status.idle": "2023-12-20T15:15:02.170930Z",
     "shell.execute_reply": "2023-12-20T15:15:02.170469Z",
     "shell.execute_reply.started": "2023-12-20T15:15:01.470128Z"
    },
    "tags": []
   },
   "outputs": [],
   "source": [
    "import numpy as np\n",
    "import lsst.daf.butler as dafButler\n",
    "import matplotlib as mpl\n",
    "import matplotlib.pyplot as plt\n",
    "from matplotlib.collections import PatchCollection\n",
    "from matplotlib.patches import Rectangle"
   ]
  },
  {
   "cell_type": "code",
   "execution_count": 8,
   "id": "7ad1b46b-377b-4711-8454-590fa46e2b5f",
   "metadata": {
    "execution": {
     "iopub.execute_input": "2023-12-21T15:13:02.965825Z",
     "iopub.status.busy": "2023-12-21T15:13:02.965404Z",
     "iopub.status.idle": "2023-12-21T15:13:02.968075Z",
     "shell.execute_reply": "2023-12-21T15:13:02.967780Z",
     "shell.execute_reply.started": "2023-12-21T15:13:02.965792Z"
    }
   },
   "outputs": [
    {
     "name": "stdout",
     "output_type": "stream",
     "text": [
      "False\n"
     ]
    }
   ],
   "source": [
    "import os\n",
    "print(os.path.exists(\"~/.lsst/db-auth.yaml\"))"
   ]
  },
  {
   "cell_type": "code",
   "execution_count": 4,
   "id": "01be0120-abfe-48d9-a340-0842cbc59e28",
   "metadata": {
    "execution": {
     "iopub.execute_input": "2023-12-21T15:12:23.791011Z",
     "iopub.status.busy": "2023-12-21T15:12:23.790654Z",
     "iopub.status.idle": "2023-12-21T15:12:23.793256Z",
     "shell.execute_reply": "2023-12-21T15:12:23.792921Z",
     "shell.execute_reply.started": "2023-12-21T15:12:23.790996Z"
    }
   },
   "outputs": [
    {
     "name": "stdout",
     "output_type": "stream",
     "text": [
      "/project/data-repos.yaml\n"
     ]
    }
   ],
   "source": [
    "print(os.environ[\"DAF_BUTLER_REPOSITORY_INDEX\"])"
   ]
  },
  {
   "cell_type": "code",
   "execution_count": 2,
   "id": "21cdab46-2ffb-4e4f-910e-ef7078ff1675",
   "metadata": {
    "execution": {
     "iopub.execute_input": "2023-12-20T15:15:02.349180Z",
     "iopub.status.busy": "2023-12-20T15:15:02.348810Z",
     "iopub.status.idle": "2023-12-20T15:15:02.894014Z",
     "shell.execute_reply": "2023-12-20T15:15:02.893651Z",
     "shell.execute_reply.started": "2023-12-20T15:15:02.349166Z"
    }
   },
   "outputs": [],
   "source": [
    "repo = '/sdf/group/rubin/repo/embargo/butler.yaml'\n",
    "butler = dafButler.Butler(repo)#, collections=collection)\n",
    "registry = butler.registry"
   ]
  },
  {
   "cell_type": "code",
   "execution_count": 3,
   "id": "e91f3fcd-c493-4916-8c57-df32f5fbbda7",
   "metadata": {
    "execution": {
     "iopub.execute_input": "2023-12-20T15:15:03.694579Z",
     "iopub.status.busy": "2023-12-20T15:15:03.694266Z",
     "iopub.status.idle": "2023-12-20T15:15:03.696797Z",
     "shell.execute_reply": "2023-12-20T15:15:03.696465Z",
     "shell.execute_reply.started": "2023-12-20T15:15:03.694565Z"
    }
   },
   "outputs": [],
   "source": [
    "collections=['LATISS/runs/AUXTEL_DRP_IMAGING_2023-11A-10A-09AB-08ABC-07AB-05AB/w_2023_46/PREOPS-4553','LATISS/runs/AUXTEL_DRP_IMAGING_2023-09A-08ABC-07AB-05AB/d_2023_09_25/PREOPS-3780',\n",
    "            'LATISS/runs/AUXTEL_DRP_IMAGING_2023-05A/w_2023_19/PREOPS-3444', 'LATISS/runs/AUXTEL_DRP_IMAGING_2023-03B/w_2023_08/PREOPS-3327',\n",
    "            'LATISS/runs/AUXTEL_DRP_IMAGING_2023-03A/w_2023_08/PREOPS-3313', 'LATISS/runs/AUXTEL_DRP_IMAGING_2023-02A/w_2023_07/PREOPS-3299/default_parallel',\n",
    "            'LATISS/runs/AUXTEL_DRP_IMAGING_2023-01B/w_2023_05/PREOPS-3230/default', 'LATISS/runs/AUXTEL_DRP_IMAGING_2023-01A/w_2023_03/PREOPS-3194']"
   ]
  },
  {
   "cell_type": "code",
   "execution_count": 4,
   "id": "6b2b52b1-bff6-4244-a303-86f2e4103a00",
   "metadata": {
    "execution": {
     "iopub.execute_input": "2023-12-20T15:15:14.532144Z",
     "iopub.status.busy": "2023-12-20T15:15:14.531736Z",
     "iopub.status.idle": "2023-12-20T15:15:18.759422Z",
     "shell.execute_reply": "2023-12-20T15:15:18.758918Z",
     "shell.execute_reply.started": "2023-12-20T15:15:14.532130Z"
    },
    "scrolled": true
   },
   "outputs": [
    {
     "name": "stdout",
     "output_type": "stream",
     "text": [
      "{instrument: 'LATISS', detector: 0, exposure: 2023072000157, band: 'g', physical_filter: 'SDSSg_65mm~empty'}\n",
      "{instrument: 'LATISS', detector: 0, exposure: 2023072000157, band: 'g', physical_filter: 'SDSSg_65mm~empty'}\n"
     ]
    }
   ],
   "source": [
    "exp_coll = []\n",
    "defect_coll, dark_coll, bias_coll, flat_coll, crosstalk_coll = [], [], [], [], []\n",
    "stack_coll=[]\n",
    "for i in range(len(collections)):\n",
    "    butler = dafButler.Butler(repo,collections=collections[i])\n",
    "    registry = butler.registry\n",
    "    exps = registry.queryDatasets('postISRCCD', instrument='LATISS',where=\"exposure=2023072000157\", collections = collections[i])\n",
    "    cdt = False\n",
    "    for j, ref in enumerate(exps):\n",
    "        if j > 1:\n",
    "            break\n",
    "        print(ref.dataId.mapping)\n",
    "        exp_coll.append(ref.dataId.mapping[\"exposure\"])\n",
    "        cdt = True\n",
    "    if cdt:\n",
    "        coaddId = {'exposure': exp_coll[i], 'detector': 0}\n",
    "        #image = butler.get('postISRCCD', dataId=coaddId)\n",
    "        expMetadata = butler.get('postISRCCD.metadata', instrument='LATISS', detector=0, exposure=exp_coll[i], collections=collections[i])\n",
    "        defect_coll.append(expMetadata[\"LSST CALIB RUN DEFECTS\"])\n",
    "        dark_coll.append(expMetadata[\"LSST CALIB RUN DARK\"])\n",
    "        bias_coll.append(expMetadata[\"LSST CALIB RUN BIAS\"])\n",
    "        flat_coll.append(expMetadata[\"LSST CALIB RUN FLAT\"])\n",
    "        crosstalk_coll.append(expMetadata[\"LSST CALIB RUN CROSSTALK\"])\n",
    "        stack_coll.append(collections[i])"
   ]
  },
  {
   "cell_type": "code",
   "execution_count": 5,
   "id": "975088c0-7d12-4fa8-8bf9-627c8ae6e3d8",
   "metadata": {
    "execution": {
     "iopub.execute_input": "2023-12-20T15:15:18.769630Z",
     "iopub.status.busy": "2023-12-20T15:15:18.769501Z",
     "iopub.status.idle": "2023-12-20T15:15:18.772508Z",
     "shell.execute_reply": "2023-12-20T15:15:18.772145Z",
     "shell.execute_reply.started": "2023-12-20T15:15:18.769618Z"
    },
    "scrolled": true
   },
   "outputs": [
    {
     "data": {
      "text/plain": [
       "(['u/plazas/DM-38563.combined.defects.type_VALUE', 'u/czw/calibX.20220608'],\n",
       " ['u/czw/DM-38563/cleaned/darkGen.20230605a/2023060',\n",
       "  'LATISS/calib/DM-38946/noRGseq/darkGen.20230428a/'],\n",
       " ['u/czw/DM-38563/cleaned/biasGen.20230605a/2023060',\n",
       "  'LATISS/calib/DM-38946/noRGseq/biasGen.20230428a/'],\n",
       " ['LATISS/calib/DM-40904/cleaned/flatGen-g.20230925',\n",
       "  'LATISS/calib/DM-38946/noRGseq/flatGen-g.20230501'],\n",
       " ['u/czw/DM-37819/crosstalkGen.20230601a/20230',\n",
       "  'u/czw/DM-37819/crosstalkGen.20230601a/20230'])"
      ]
     },
     "execution_count": 5,
     "metadata": {},
     "output_type": "execute_result"
    }
   ],
   "source": [
    "defect_coll, dark_coll, bias_coll, flat_coll, crosstalk_coll"
   ]
  },
  {
   "cell_type": "code",
   "execution_count": 6,
   "id": "7a460098-f123-4581-9aee-62c008da53a9",
   "metadata": {
    "execution": {
     "iopub.execute_input": "2023-12-20T15:15:18.773416Z",
     "iopub.status.busy": "2023-12-20T15:15:18.773292Z",
     "iopub.status.idle": "2023-12-20T15:15:18.776507Z",
     "shell.execute_reply": "2023-12-20T15:15:18.776103Z",
     "shell.execute_reply.started": "2023-12-20T15:15:18.773405Z"
    }
   },
   "outputs": [],
   "source": [
    "def find_coll(calib, calib_collections):\n",
    "    i=0\n",
    "    n = len(calib)\n",
    "    coll = ' '\n",
    "    for i, collection in enumerate(calib_collections):\n",
    "        if collection[:n]==calib and len(collection)>len(coll):\n",
    "            coll = collection\n",
    "            print(collection)\n",
    "    return coll"
   ]
  },
  {
   "cell_type": "code",
   "execution_count": 7,
   "id": "02a4775e-f0c8-45ac-b632-7737cc79361a",
   "metadata": {
    "execution": {
     "iopub.execute_input": "2023-12-20T15:15:21.265977Z",
     "iopub.status.busy": "2023-12-20T15:15:21.265695Z",
     "iopub.status.idle": "2023-12-20T15:15:21.284215Z",
     "shell.execute_reply": "2023-12-20T15:15:21.283796Z",
     "shell.execute_reply.started": "2023-12-20T15:15:21.265963Z"
    }
   },
   "outputs": [],
   "source": [
    "defects_collections = np.loadtxt('/sdf/group/rubin/user/amouroux/comissioning/AuxTel/calibration_collections/defects_collections.txt', dtype='str')\n",
    "bias_collections = np.loadtxt('/sdf/group/rubin/user/amouroux/comissioning/AuxTel/calibration_collections/bias_collections.txt', dtype='str')\n",
    "flat_collections = np.loadtxt('/sdf/group/rubin/user/amouroux/comissioning/AuxTel/calibration_collections/flat_collections.txt', dtype='str')\n",
    "dark_collections = np.loadtxt('/sdf/group/rubin/user/amouroux/comissioning/AuxTel/calibration_collections/dark_collections.txt', dtype='str')\n",
    "crosstalk_collections = np.loadtxt('/sdf/group/rubin/user/amouroux/comissioning/AuxTel/calibration_collections/crosstalk_collections.txt', dtype='str')"
   ]
  },
  {
   "cell_type": "code",
   "execution_count": 8,
   "id": "52d8d29e-11e4-4e85-aac8-19953e21e940",
   "metadata": {
    "execution": {
     "iopub.execute_input": "2023-12-20T15:15:26.265643Z",
     "iopub.status.busy": "2023-12-20T15:15:26.265368Z",
     "iopub.status.idle": "2023-12-20T15:15:26.269517Z",
     "shell.execute_reply": "2023-12-20T15:15:26.269119Z",
     "shell.execute_reply.started": "2023-12-20T15:15:26.265629Z"
    }
   },
   "outputs": [
    {
     "name": "stdout",
     "output_type": "stream",
     "text": [
      "u/plazas/DM-38563.combined.defects.type_VALUE.hot_3.cold_0.9.2023OCT04.2/20231005T022801Z\n",
      "u/czw/DM-38563/cleaned/biasGen.20230605a/20230605T215546Z\n",
      "LATISS/calib/DM-40904/cleaned/flatGen-g.20230925a\n",
      "LATISS/calib/DM-40904/cleaned/flatGen-g.20230925a/20230925T215511Z\n",
      "u/czw/DM-38563/cleaned/darkGen.20230605a/20230605T222456Z\n",
      "u/czw/DM-37819/crosstalkGen.20230601a/20230601T201929Z\n",
      "u/czw/calibX.20220608\n",
      "LATISS/calib/DM-38946/noRGseq/biasGen.20230428a/20230428T210637Z\n",
      "LATISS/calib/DM-38946/noRGseq/flatGen-g.20230501a\n",
      "LATISS/calib/DM-38946/noRGseq/flatGen-g.20230501a/20230501T203920Z\n",
      "LATISS/calib/DM-38946/noRGseq/darkGen.20230428a/20230428T213424Z\n",
      "u/czw/DM-37819/crosstalkGen.20230601a/20230601T201929Z\n"
     ]
    }
   ],
   "source": [
    "defect_, bias_, flat_, dark_, crosstalk_ = [], [], [], [], []\n",
    "for i in range(2):\n",
    "    defect_.append(find_coll(defect_coll[i], defects_collections))\n",
    "    bias_.append(find_coll(bias_coll[i], bias_collections))\n",
    "    flat_.append(find_coll(flat_coll[i], flat_collections))\n",
    "    dark_.append(find_coll(dark_coll[i], dark_collections))\n",
    "    crosstalk_.append(find_coll(crosstalk_coll[i], crosstalk_collections))"
   ]
  },
  {
   "cell_type": "code",
   "execution_count": 16,
   "id": "411712a0-6d6a-4763-b8a7-869f9bd429fd",
   "metadata": {
    "execution": {
     "iopub.execute_input": "2023-12-20T15:18:40.397361Z",
     "iopub.status.busy": "2023-12-20T15:18:40.397078Z",
     "iopub.status.idle": "2023-12-20T15:18:40.693325Z",
     "shell.execute_reply": "2023-12-20T15:18:40.692859Z",
     "shell.execute_reply.started": "2023-12-20T15:18:40.397346Z"
    }
   },
   "outputs": [],
   "source": [
    "calib_names = [\"defects\", \"bias\", \"flat\", \"dark\", \"crosstalk\"]\n",
    "calib_colls = [defect_, bias_, flat_, dark_, crosstalk_]\n",
    "calib = [[0,0], [0,0], [0,0], [0,0], [0,0]]\n",
    "\n",
    "butler = dafButler.Butler(repo,collections=collections[j])\n",
    "calib_defects = butler.get(calib_names[4], instrument='LATISS',detector=0, collections=calib_colls[4][0])"
   ]
  },
  {
   "cell_type": "code",
   "execution_count": 17,
   "id": "6c10fc7e-2de6-4422-b7c4-4781021c173c",
   "metadata": {
    "execution": {
     "iopub.execute_input": "2023-12-20T15:18:46.390159Z",
     "iopub.status.busy": "2023-12-20T15:18:46.389665Z",
     "iopub.status.idle": "2023-12-20T15:18:46.392194Z",
     "shell.execute_reply": "2023-12-20T15:18:46.391783Z",
     "shell.execute_reply.started": "2023-12-20T15:18:46.390143Z"
    }
   },
   "outputs": [],
   "source": [
    "coeffs = calib_defects.coeffs"
   ]
  },
  {
   "cell_type": "code",
   "execution_count": 18,
   "id": "efd4f936-3806-4678-93b4-6f847753c2ec",
   "metadata": {
    "execution": {
     "iopub.execute_input": "2023-12-20T15:18:49.323226Z",
     "iopub.status.busy": "2023-12-20T15:18:49.322949Z",
     "iopub.status.idle": "2023-12-20T15:18:49.325608Z",
     "shell.execute_reply": "2023-12-20T15:18:49.325195Z",
     "shell.execute_reply.started": "2023-12-20T15:18:49.323212Z"
    }
   },
   "outputs": [],
   "source": [
    "amps = [i for i in range(len(coeffs))]"
   ]
  },
  {
   "cell_type": "code",
   "execution_count": 22,
   "id": "1f130d8c-c6ba-4f22-bef3-1d2575b20af1",
   "metadata": {
    "collapsed": true,
    "execution": {
     "iopub.execute_input": "2023-12-13T16:23:34.298013Z",
     "iopub.status.busy": "2023-12-13T16:23:34.297807Z",
     "iopub.status.idle": "2023-12-13T16:23:34.301978Z",
     "shell.execute_reply": "2023-12-13T16:23:34.301688Z",
     "shell.execute_reply.started": "2023-12-13T16:23:34.297999Z"
    },
    "jupyter": {
     "outputs_hidden": true
    },
    "scrolled": true
   },
   "outputs": [
    {
     "data": {
      "text/plain": [
       "array([[0.00000000e+00, 1.35567350e-04, 2.12072266e-05, 8.52183217e-06,\n",
       "        3.48150040e-07, 3.49318197e-06, 1.77419743e-06, 0.00000000e+00,\n",
       "        0.00000000e+00, 0.00000000e+00, 6.62398419e-08, 0.00000000e+00,\n",
       "        0.00000000e+00, 0.00000000e+00, 2.86405942e-06, 3.57817430e-05],\n",
       "       [2.06497854e-04, 0.00000000e+00, 2.20243043e-04, 5.79033171e-05,\n",
       "        4.59381003e-05, 2.80140977e-05, 1.18616260e-05, 1.63705736e-06,\n",
       "        0.00000000e+00, 0.00000000e+00, 0.00000000e+00, 0.00000000e+00,\n",
       "        0.00000000e+00, 2.83113295e-06, 0.00000000e+00, 2.66771957e-05],\n",
       "       [3.83107169e-05, 2.39972276e-04, 0.00000000e+00, 2.17237245e-04,\n",
       "        6.14284722e-05, 5.07460819e-05, 6.38135915e-06, 1.14019232e-06,\n",
       "        1.66811500e-07, 0.00000000e+00, 0.00000000e+00, 0.00000000e+00,\n",
       "        1.04952278e-05, 8.24884804e-07, 1.44881867e-05, 0.00000000e+00],\n",
       "       [3.54888816e-05, 3.40231367e-05, 3.58520001e-04, 0.00000000e+00,\n",
       "        1.35303662e-04, 3.30329719e-05, 7.41672241e-06, 0.00000000e+00,\n",
       "        0.00000000e+00, 0.00000000e+00, 0.00000000e+00, 0.00000000e+00,\n",
       "        3.97106818e-07, 2.29065423e-05, 7.45236037e-06, 0.00000000e+00],\n",
       "       [1.28023286e-05, 4.17098182e-05, 4.52879926e-05, 1.91586800e-04,\n",
       "        0.00000000e+00, 2.75243992e-04, 0.00000000e+00, 4.58455352e-06,\n",
       "        0.00000000e+00, 1.19626703e-05, 4.36748529e-05, 0.00000000e+00,\n",
       "        0.00000000e+00, 7.69800868e-06, 0.00000000e+00, 0.00000000e+00],\n",
       "       [3.59299484e-06, 2.32679944e-05, 4.22184379e-05, 1.35286551e-05,\n",
       "        8.62249304e-04, 0.00000000e+00, 1.08008204e-04, 7.52286553e-06,\n",
       "        2.69440219e-06, 5.26742820e-06, 1.10848610e-05, 2.34962119e-05,\n",
       "        0.00000000e+00, 0.00000000e+00, 0.00000000e+00, 4.94339146e-06],\n",
       "       [4.00179801e-07, 4.41571374e-06, 4.38923960e-06, 0.00000000e+00,\n",
       "        0.00000000e+00, 2.49640573e-04, 0.00000000e+00, 1.38559759e-04,\n",
       "        3.74647495e-06, 1.60068272e-05, 2.31154680e-05, 1.03849010e-05,\n",
       "        0.00000000e+00, 0.00000000e+00, 0.00000000e+00, 1.04155246e-06],\n",
       "       [0.00000000e+00, 0.00000000e+00, 0.00000000e+00, 0.00000000e+00,\n",
       "        0.00000000e+00, 0.00000000e+00, 1.54178790e-03, 0.00000000e+00,\n",
       "        3.35421410e-05, 1.80072564e-05, 0.00000000e+00, 0.00000000e+00,\n",
       "        0.00000000e+00, 0.00000000e+00, 0.00000000e+00, 0.00000000e+00],\n",
       "       [0.00000000e+00, 1.45444042e-06, 9.12221461e-06, 0.00000000e+00,\n",
       "        0.00000000e+00, 0.00000000e+00, 0.00000000e+00, 2.82050749e-06,\n",
       "        0.00000000e+00, 1.39995129e-04, 0.00000000e+00, 0.00000000e+00,\n",
       "        0.00000000e+00, 0.00000000e+00, 1.19108343e-06, 4.69852636e-07],\n",
       "       [1.21329997e-05, 0.00000000e+00, 0.00000000e+00, 0.00000000e+00,\n",
       "        3.87596631e-06, 1.37918367e-06, 1.94593248e-05, 1.41062429e-05,\n",
       "        3.27021492e-04, 0.00000000e+00, 1.90662053e-04, 0.00000000e+00,\n",
       "        1.10223355e-05, 1.48456276e-05, 1.31345848e-05, 1.48196282e-05],\n",
       "       [2.06831850e-05, 0.00000000e+00, 0.00000000e+00, 0.00000000e+00,\n",
       "        4.28099195e-05, 1.24336398e-05, 2.29821654e-05, 0.00000000e+00,\n",
       "        0.00000000e+00, 6.59191014e-05, 0.00000000e+00, 5.10078868e-04,\n",
       "        2.96172066e-05, 5.03530321e-05, 3.01289604e-05, 1.83070863e-05],\n",
       "       [0.00000000e+00, 0.00000000e+00, 2.40798864e-06, 0.00000000e+00,\n",
       "        0.00000000e+00, 1.90845237e-05, 2.38222447e-06, 0.00000000e+00,\n",
       "        0.00000000e+00, 0.00000000e+00, 7.21538772e-04, 0.00000000e+00,\n",
       "        1.54153245e-04, 3.62951867e-05, 5.45212219e-05, 2.58252769e-05],\n",
       "       [0.00000000e+00, 3.99288784e-07, 1.25357753e-05, 1.43165409e-06,\n",
       "        0.00000000e+00, 0.00000000e+00, 0.00000000e+00, 0.00000000e+00,\n",
       "        0.00000000e+00, 0.00000000e+00, 1.04848175e-05, 8.95406289e-05,\n",
       "        0.00000000e+00, 2.09746453e-04, 4.35477415e-05, 2.93736363e-05],\n",
       "       [0.00000000e+00, 9.84246879e-06, 6.42865191e-06, 1.93452783e-05,\n",
       "        1.11312695e-06, 0.00000000e+00, 0.00000000e+00, 1.14355597e-05,\n",
       "        0.00000000e+00, 0.00000000e+00, 3.49295690e-05, 2.08585875e-05,\n",
       "        3.20449072e-04, 0.00000000e+00, 1.99677428e-04, 1.77422644e-05],\n",
       "       [2.08843523e-06, 0.00000000e+00, 1.23994578e-05, 0.00000000e+00,\n",
       "        0.00000000e+00, 0.00000000e+00, 0.00000000e+00, 0.00000000e+00,\n",
       "        3.56879663e-06, 0.00000000e+00, 2.19064885e-05, 3.21369930e-05,\n",
       "        4.25061497e-05, 1.55382753e-04, 0.00000000e+00, 2.15223448e-04],\n",
       "       [2.91493536e-05, 1.79958951e-05, 0.00000000e+00, 0.00000000e+00,\n",
       "        0.00000000e+00, 1.27123609e-06, 4.10057941e-06, 0.00000000e+00,\n",
       "        0.00000000e+00, 1.49576504e-06, 0.00000000e+00, 0.00000000e+00,\n",
       "        0.00000000e+00, 0.00000000e+00, 6.73238730e-04, 0.00000000e+00]])"
      ]
     },
     "execution_count": 22,
     "metadata": {},
     "output_type": "execute_result"
    }
   ],
   "source": [
    "coeffs"
   ]
  },
  {
   "cell_type": "code",
   "execution_count": 22,
   "id": "67b9c03f-dfac-418f-bcd6-d6f034df46ac",
   "metadata": {
    "execution": {
     "iopub.execute_input": "2023-12-20T15:20:19.372241Z",
     "iopub.status.busy": "2023-12-20T15:20:19.371953Z",
     "iopub.status.idle": "2023-12-20T15:20:19.374780Z",
     "shell.execute_reply": "2023-12-20T15:20:19.374312Z",
     "shell.execute_reply.started": "2023-12-20T15:20:19.372226Z"
    }
   },
   "outputs": [],
   "source": [
    "amp_m, amp_m = np.meshgrid(amps, amps)"
   ]
  },
  {
   "cell_type": "code",
   "execution_count": 20,
   "id": "3f59c452-7469-4cff-8376-97c57b6dc7eb",
   "metadata": {
    "execution": {
     "iopub.execute_input": "2023-12-20T15:18:58.911722Z",
     "iopub.status.busy": "2023-12-20T15:18:58.911451Z",
     "iopub.status.idle": "2023-12-20T15:18:58.913948Z",
     "shell.execute_reply": "2023-12-20T15:18:58.913584Z",
     "shell.execute_reply.started": "2023-12-20T15:18:58.911708Z"
    },
    "scrolled": true
   },
   "outputs": [],
   "source": [
    "amps_m = amps"
   ]
  },
  {
   "cell_type": "code",
   "execution_count": 39,
   "id": "416c636e-3c01-491b-911e-f9fd063dc057",
   "metadata": {
    "execution": {
     "iopub.execute_input": "2023-12-20T15:29:32.395849Z",
     "iopub.status.busy": "2023-12-20T15:29:32.395454Z",
     "iopub.status.idle": "2023-12-20T15:29:32.398097Z",
     "shell.execute_reply": "2023-12-20T15:29:32.397780Z",
     "shell.execute_reply.started": "2023-12-20T15:29:32.395835Z"
    }
   },
   "outputs": [],
   "source": [
    "amp_l = [f\"C0{i}\" for i in range(8)] + [f\"C1{i}\" for i in range(8)]\n",
    "ticks = [i for i in range(16)]"
   ]
  },
  {
   "cell_type": "code",
   "execution_count": 49,
   "id": "d54c86f1-f0fe-41a2-b409-b139096d6042",
   "metadata": {
    "execution": {
     "iopub.execute_input": "2023-12-20T15:31:25.157041Z",
     "iopub.status.busy": "2023-12-20T15:31:25.156816Z",
     "iopub.status.idle": "2023-12-20T15:31:25.344090Z",
     "shell.execute_reply": "2023-12-20T15:31:25.343764Z",
     "shell.execute_reply.started": "2023-12-20T15:31:25.157028Z"
    }
   },
   "outputs": [
    {
     "data": {
      "image/png": "[encoded data removed]",
      "text/plain": [
       "<Figure size 1000x1000 with 2 Axes>"
      ]
     },
     "metadata": {},
     "output_type": "display_data"
    }
   ],
   "source": [
    "plt.figure(figsize=(10,10))\n",
    "plt.imshow(coeffs, vmin = 0, vmax = 0.0003)\n",
    "plt.colorbar(fraction=.045)\n",
    "plt.xticks(ticks = ticks, labels = amp_l)\n",
    "plt.yticks(ticks = ticks, labels = amp_l)\n",
    "plt.show()"
   ]
  },
  {
   "cell_type": "code",
   "execution_count": null,
   "id": "8ebb8732-ee19-4e63-bf03-abcd8d08eee5",
   "metadata": {},
   "outputs": [],
   "source": []
  }
 ],
 "metadata": {
  "kernelspec": {
   "display_name": "LSST",
   "language": "python",
   "name": "lsst"
  },
  "language_info": {
   "codemirror_mode": {
    "name": "ipython",
    "version": 3
   },
   "file_extension": ".py",
   "mimetype": "text/x-python",
   "name": "python",
   "nbconvert_exporter": "python",
   "pygments_lexer": "ipython3",
   "version": "3.11.4"
  }
 },
 "nbformat": 4,
 "nbformat_minor": 5
}
