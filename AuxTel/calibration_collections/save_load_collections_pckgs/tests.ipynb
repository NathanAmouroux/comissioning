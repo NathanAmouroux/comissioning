{
 "cells": [
  {
   "cell_type": "code",
   "execution_count": 14,
   "id": "7cb53587-d086-46b4-ab51-864f911afe36",
   "metadata": {
    "execution": {
     "iopub.execute_input": "2024-01-11T13:14:45.552923Z",
     "iopub.status.busy": "2024-01-11T13:14:45.552521Z",
     "iopub.status.idle": "2024-01-11T13:14:46.137377Z",
     "shell.execute_reply": "2024-01-11T13:14:46.136868Z",
     "shell.execute_reply.started": "2024-01-11T13:14:45.552910Z"
    }
   },
   "outputs": [],
   "source": [
    "import numpy as np\n",
    "import lsst.daf.butler as dafButler\n",
    "import matplotlib as mpl\n",
    "import matplotlib.pyplot as plt\n",
    "from matplotlib.collections import PatchCollection\n",
    "from matplotlib.patches import Rectangle\n",
    "import sys\n"
   ]
  },
  {
   "cell_type": "code",
   "execution_count": 15,
   "id": "4c948928-a09c-46a5-8552-615a41bd26da",
   "metadata": {
    "execution": {
     "iopub.execute_input": "2024-01-11T13:14:46.905821Z",
     "iopub.status.busy": "2024-01-11T13:14:46.905457Z",
     "iopub.status.idle": "2024-01-11T13:14:47.392783Z",
     "shell.execute_reply": "2024-01-11T13:14:47.392291Z",
     "shell.execute_reply.started": "2024-01-11T13:14:46.905808Z"
    }
   },
   "outputs": [
    {
     "name": "stdout",
     "output_type": "stream",
     "text": [
      "Butler successfuly instatiated\n"
     ]
    }
   ],
   "source": [
    "\n",
    "repo = '/sdf/group/rubin/repo/embargo/butler.yaml'\n",
    "butler = dafButler.Butler(repo)\n",
    "registry = butler.registry\n",
    "print(\"Butler successfuly instatiated\")\n",
    "collection = \"LATISS/runs/AUXTEL_DRP_IMAGING_2023-11A-10A-09AB-08ABC-07AB-05AB/w_2023_46/PREOPS-4553\"\n",
    "#collection = sys.argv[1]\n"
   ]
  },
  {
   "cell_type": "code",
   "execution_count": 6,
   "id": "e76a7f87-c17d-4258-9a08-0c4aaa6117eb",
   "metadata": {
    "execution": {
     "iopub.execute_input": "2024-01-10T09:55:53.730406Z",
     "iopub.status.busy": "2024-01-10T09:55:53.730091Z",
     "iopub.status.idle": "2024-01-10T09:55:53.893413Z",
     "shell.execute_reply": "2024-01-10T09:55:53.892943Z",
     "shell.execute_reply.started": "2024-01-10T09:55:53.730391Z"
    }
   },
   "outputs": [],
   "source": [
    "\n",
    "def test_for_calibration(butler, collection, calibration_type) :\n",
    "    ## This function just tries to get a defect from the collection.\n",
    "    ## If successfull it passes True, otherwise False.\n",
    "    try :\n",
    "        butler.get(calibration_type, instrument='LATISS', physical_filter='SDSSr_65mm~empty', detector=0, collections=collection)\n",
    "        exists = True\n",
    "    except :\n",
    "        exists = False\n",
    "    return exists\n",
    "\n",
    "butler = dafButler.Butler(repo, collections=collection)\n",
    "registry = butler.registry\n",
    "#####\n",
    "def get_chain(collection):\n",
    "    chain = registry.getCollectionChain(collection)\n",
    "    calibs = [c for c in sorted(chain, reverse = True) if \"LATISS/calib\" in c]\n",
    "    return calibs\n"
   ]
  },
  {
   "cell_type": "code",
   "execution_count": 7,
   "id": "e2f9a90c-3037-4d53-8771-d20660c10ced",
   "metadata": {
    "execution": {
     "iopub.execute_input": "2024-01-10T09:55:56.338853Z",
     "iopub.status.busy": "2024-01-10T09:55:56.338644Z",
     "iopub.status.idle": "2024-01-10T09:55:56.345965Z",
     "shell.execute_reply": "2024-01-10T09:55:56.345595Z",
     "shell.execute_reply.started": "2024-01-10T09:55:56.338838Z"
    }
   },
   "outputs": [
    {
     "name": "stdout",
     "output_type": "stream",
     "text": [
      "Chained calibrations are the following :\n",
      "LATISS/calib/DM-41633/flat-i\n",
      "LATISS/calib/DM-41319/unbounded\n",
      "LATISS/calib/DM-41319\n",
      "LATISS/calib/DM-40904//flat-r\n",
      "LATISS/calib/DM-40904//flat-i\n",
      "LATISS/calib/DM-40904//flat-g\n",
      "LATISS/calib/DM-40904//defects\n",
      "LATISS/calib/DM-40904//dark\n",
      "LATISS/calib/DM-40904//bias\n",
      "LATISS/calib/DM-39505/crosstalk.20230602\n",
      "LATISS/calib/DM-38946/noRGseq/flat-r.20230503\n",
      "LATISS/calib/DM-38946/noRGseq/flat-i.20230503\n",
      "LATISS/calib/DM-38946/noRGseq/flat-g.20230503\n",
      "LATISS/calib/DM-38946/noRGseq/dark.20230503\n",
      "LATISS/calib/DM-38946/noRGseq/bias.20230503\n",
      "LATISS/calib/DM-37587/flat-SDSSr.20230113a\n",
      "LATISS/calib/DM-37587/flat-OG550.20230113a\n",
      "LATISS/calib/DM-37587/flat-BG40.20230113a\n",
      "LATISS/calib/DM-36719/flat-SDSSr.20221107\n",
      "LATISS/calib/DM-36719/flat-SDSSi.20221107\n",
      "LATISS/calib/DM-36719/flat-SDSSg.20221107\n",
      "LATISS/calib/DM-36719/dark.20221107\n",
      "LATISS/calib/DM-36719/bias.20221107\n",
      "LATISS/calib/DM-36484/flat-SDSSr.20221006a\n",
      "LATISS/calib/DM-36484/flat-SDSSi.20221006a\n",
      "LATISS/calib/DM-36484/flat-SDSSg.20221006a\n",
      "LATISS/calib/DM-36484/dark.20221006a\n",
      "LATISS/calib/DM-36484/bias.20221005a\n",
      "LATISS/calib/DM-33875\n",
      "\n",
      "\n",
      "\n",
      "Found flat-i.\n",
      "Found flat-r.\n",
      "Found flat-g.\n",
      "Found defects.\n",
      "Found dark.\n",
      "Found bias.\n",
      "Found crosstalk.\n"
     ]
    }
   ],
   "source": [
    "\n",
    "calib_chain = get_chain(collection)\n",
    "\"\"\"with open(f'{collection}_calibrations_chained.txt', 'w') as f:\n",
    "    for col in calib_chain:\n",
    "        f.write(f\"{col}\\n\")\"\"\"\n",
    "print(\"Chained calibrations are the following :\")\n",
    "for c in calib_chain:\n",
    "    print(c)\n",
    "print(\"\\n\\n\")\n",
    "#####\n",
    "c_types = np.array([\"flat-i\", \"flat-z\", \"flat-y\", \"flat-g\", \"flat-r\", \"bias\", \"defects\", \"dark\", \"crosstalk\"])\n",
    "\n",
    "calib_types, calib_names = [], []\n",
    "for i, element in enumerate(calib_chain):\n",
    "    for calib_t in c_types:\n",
    "        if calib_t in element and calib_t not in calib_types:\n",
    "            print(f\"Found {calib_t}.\")\n",
    "            calib_types.append(calib_t)\n",
    "            calib_names.append(element)\n",
    "            \"\"\"\n",
    "with open(f'{collection}_last_calibrations.txt', 'w') as f:\n",
    "    for col1, col2 in np.column_stack((calib_names, calib_types)):\n",
    "        f.write(f\"{col1}\\t{col2}\\n\")\"\"\""
   ]
  },
  {
   "cell_type": "code",
   "execution_count": null,
   "id": "598cd957-ab58-4bf2-90b8-96d0eac92d02",
   "metadata": {},
   "outputs": [],
   "source": []
  },
  {
   "cell_type": "code",
   "execution_count": 9,
   "id": "a3d72f5e-e1be-463b-aa92-559bb62e6ab4",
   "metadata": {
    "execution": {
     "iopub.execute_input": "2024-01-10T09:57:18.449446Z",
     "iopub.status.busy": "2024-01-10T09:57:18.449109Z",
     "iopub.status.idle": "2024-01-10T09:57:18.538201Z",
     "shell.execute_reply": "2024-01-10T09:57:18.537837Z",
     "shell.execute_reply.started": "2024-01-10T09:57:18.449427Z"
    }
   },
   "outputs": [
    {
     "name": "stdout",
     "output_type": "stream",
     "text": [
      "LATISS/calib/DM-41633/flat-i flat-i\n",
      "LATISS/calib/DM-40904//flat-r flat-r\n",
      "LATISS/calib/DM-40904//flat-g flat-g\n",
      "LATISS/calib/DM-40904//defects defects\n",
      "LATISS/calib/DM-40904//dark dark\n",
      "LATISS/calib/DM-40904//bias bias\n",
      "LATISS/calib/DM-39505/crosstalk.20230602 crosstalk\n",
      "\n",
      " [[DatasetRef(DatasetType('flat', {band, instrument, detector, physical_filter}, ExposureF, isCalibration=True), {instrument: 'LATISS', detector: 0, physical_filter: 'empty~SDSSi_65mm', band: 'i'}, run='LATISS/calib/DM-41633/flatGen-i.20231107a/20231107T201619Z', id=a0279de4-c2a1-4bd7-8d68-1a1d49a7191b)], [DatasetRef(DatasetType('flat', {band, instrument, detector, physical_filter}, ExposureF, isCalibration=True), {instrument: 'LATISS', detector: 0, physical_filter: 'SDSSr_65mm~empty', band: 'r'}, run='LATISS/calib/DM-40904/cleaned/flatGen-r.20230925a/20230925T221124Z', id=d4dd4c74-f061-417b-a753-d210733b027f)], [DatasetRef(DatasetType('flat', {band, instrument, detector, physical_filter}, ExposureF, isCalibration=True), {instrument: 'LATISS', detector: 0, physical_filter: 'SDSSg_65mm~empty', band: 'g'}, run='LATISS/calib/DM-40904/cleaned/flatGen-g.20230925a/20230925T215511Z', id=3572f2d0-68f2-4656-af51-3e0eaea4351b)], [DatasetRef(DatasetType('defects', {instrument, detector}, Defects, isCalibration=True), {instrument: 'LATISS', detector: 0}, run='u/plazas/DM-38563.combined.defects.type_VALUE.hot_3.cold_0.9.2023OCT04.2/20231005T022801Z', id=9067d8f4-13b4-472b-a94d-ed926efd327c)], [DatasetRef(DatasetType('dark', {instrument, detector}, ExposureF, isCalibration=True), {instrument: 'LATISS', detector: 0}, run='u/czw/DM-38563/cleaned/darkGen.20230605a/20230605T222456Z', id=115dc130-f9a4-421c-89cf-5475fa7c643f)], [DatasetRef(DatasetType('bias', {instrument, detector}, ExposureF, isCalibration=True), {instrument: 'LATISS', detector: 0}, run='u/czw/DM-38563/cleaned/biasGen.20230605a/20230605T215546Z', id=05c2f841-9b64-49f7-a177-964e98c49578)], [DatasetRef(DatasetType('crosstalk', {instrument, detector}, CrosstalkCalib, isCalibration=True), {instrument: 'LATISS', detector: 0}, run='u/czw/DM-37819/crosstalkGen.20230601a/20230601T201929Z', id=7409635f-66fb-4806-83bf-46cc3db87cbf)]] \n",
      "\n",
      " ['LATISS/calib/DM-41633/flatGen-i.20231107a/20231107T201619Z', 'LATISS/calib/DM-40904/cleaned/flatGen-r.20230925a/20230925T221124Z', 'LATISS/calib/DM-40904/cleaned/flatGen-g.20230925a/20230925T215511Z', 'u/plazas/DM-38563.combined.defects.type_VALUE.hot_3.cold_0.9.2023OCT04.2/20231005T022801Z', 'u/czw/DM-38563/cleaned/darkGen.20230605a/20230605T222456Z', 'u/czw/DM-38563/cleaned/biasGen.20230605a/20230605T215546Z', 'u/czw/DM-37819/crosstalkGen.20230601a/20230601T201929Z'] \n",
      "\n",
      " ['empty~SDSSi_65mm', 'SDSSr_65mm~empty', 'SDSSg_65mm~empty', 0, 0, 0, 0]\n"
     ]
    },
    {
     "data": {
      "text/plain": [
       "'with open(f\\'{collection}_calibrations_access.txt\\', \\'w\\') as f:\\n    for col1, col2 in np.column_stack((coll_paths, physical_filters)):\\n        f.write(f\"{col1}\\t{col2}\\n\")'"
      ]
     },
     "execution_count": 9,
     "metadata": {},
     "output_type": "execute_result"
    }
   ],
   "source": [
    "datasets = []\n",
    "coll_paths = []\n",
    "physical_filters = []\n",
    "for cal_n, cal_t in np.column_stack((calib_names, calib_types)):\n",
    "    print(cal_n, cal_t)\n",
    "    if \"flat\" in cal_t:\n",
    "        dataset = list(registry.queryDatasets(\"flat\", collections = cal_n))\n",
    "        physical_filters.append(dataset[0].dataId[\"physical_filter\"])\n",
    "    else :\n",
    "        dataset = list(registry.queryDatasets(cal_t, collections = cal_n))\n",
    "        physical_filters.append(0) #For convenient saving later\n",
    "    datasets.append(dataset)\n",
    "    coll_paths.append(dataset[0].run)\n",
    "print(\"\\n\", datasets, \"\\n\\n\", coll_paths, \"\\n\\n\", physical_filters)\n",
    "\"\"\"with open(f'{collection}_calibrations_access.txt', 'w') as f:\n",
    "    for col1, col2 in np.column_stack((coll_paths, physical_filters)):\n",
    "        f.write(f\"{col1}\\t{col2}\\n\")\"\"\""
   ]
  },
  {
   "cell_type": "code",
   "execution_count": 17,
   "id": "5645cc5f-49d7-417d-9f95-e791ed4f74bf",
   "metadata": {
    "execution": {
     "iopub.execute_input": "2024-01-10T10:51:43.669641Z",
     "iopub.status.busy": "2024-01-10T10:51:43.669186Z",
     "iopub.status.idle": "2024-01-10T10:51:43.672700Z",
     "shell.execute_reply": "2024-01-10T10:51:43.672210Z",
     "shell.execute_reply.started": "2024-01-10T10:51:43.669627Z"
    }
   },
   "outputs": [],
   "source": [
    "calib_names, calib_types = np.loadtxt(f\"{collection.split('/')[-1]}_last_calibrations.txt\", dtype = 'str', delimiter = '\\t',unpack=True)"
   ]
  },
  {
   "cell_type": "code",
   "execution_count": 19,
   "id": "4f3c8316-0e1c-4a87-a50c-9ea0b2352ed5",
   "metadata": {
    "execution": {
     "iopub.execute_input": "2024-01-10T10:51:48.494628Z",
     "iopub.status.busy": "2024-01-10T10:51:48.494023Z",
     "iopub.status.idle": "2024-01-10T10:51:48.497444Z",
     "shell.execute_reply": "2024-01-10T10:51:48.497080Z",
     "shell.execute_reply.started": "2024-01-10T10:51:48.494612Z"
    }
   },
   "outputs": [
    {
     "data": {
      "text/plain": [
       "array(['LATISS/calib/DM-41633/flat-i', 'LATISS/calib/DM-40904//flat-r',\n",
       "       'LATISS/calib/DM-40904//flat-g', 'LATISS/calib/DM-40904//defects',\n",
       "       'LATISS/calib/DM-40904//dark', 'LATISS/calib/DM-40904//bias',\n",
       "       'LATISS/calib/DM-39505/crosstalk.20230602'], dtype='<U40')"
      ]
     },
     "execution_count": 19,
     "metadata": {},
     "output_type": "execute_result"
    }
   ],
   "source": [
    "calib_names"
   ]
  },
  {
   "cell_type": "code",
   "execution_count": 24,
   "id": "908dd17f-e30e-4364-b059-d60d4c74b660",
   "metadata": {
    "execution": {
     "iopub.execute_input": "2024-01-10T11:06:33.220470Z",
     "iopub.status.busy": "2024-01-10T11:06:33.220213Z",
     "iopub.status.idle": "2024-01-10T11:06:33.253505Z",
     "shell.execute_reply": "2024-01-10T11:06:33.252927Z",
     "shell.execute_reply.started": "2024-01-10T11:06:33.220457Z"
    },
    "scrolled": true
   },
   "outputs": [
    {
     "ename": "TypeError",
     "evalue": "data type 'array' not understood",
     "output_type": "error",
     "traceback": [
      "\u001b[0;31m---------------------------------------------------------------------------\u001b[0m",
      "\u001b[0;31mTypeError\u001b[0m                                 Traceback (most recent call last)",
      "Cell \u001b[0;32mIn[24], line 1\u001b[0m\n\u001b[0;32m----> 1\u001b[0m \u001b[43mnp\u001b[49m\u001b[38;5;241;43m.\u001b[39;49m\u001b[43mloadtxt\u001b[49m\u001b[43m(\u001b[49m\u001b[38;5;124;43m\"\u001b[39;49m\u001b[38;5;124;43mPREOPS-4553_raw_data_calibration.txt\u001b[39;49m\u001b[38;5;124;43m\"\u001b[39;49m\u001b[43m,\u001b[49m\u001b[43mdtype\u001b[49m\u001b[38;5;241;43m=\u001b[39;49m\u001b[38;5;124;43m\"\u001b[39;49m\u001b[38;5;124;43marray\u001b[39;49m\u001b[38;5;124;43m\"\u001b[39;49m\u001b[43m)\u001b[49m\n",
      "File \u001b[0;32m/opt/lsst/software/stack/conda/miniconda3-py38_4.9.2/envs/lsst-scipipe-7.0.1/lib/python3.11/site-packages/numpy/lib/npyio.py:1356\u001b[0m, in \u001b[0;36mloadtxt\u001b[0;34m(fname, dtype, comments, delimiter, converters, skiprows, usecols, unpack, ndmin, encoding, max_rows, quotechar, like)\u001b[0m\n\u001b[1;32m   1353\u001b[0m \u001b[38;5;28;01mif\u001b[39;00m \u001b[38;5;28misinstance\u001b[39m(delimiter, \u001b[38;5;28mbytes\u001b[39m):\n\u001b[1;32m   1354\u001b[0m     delimiter \u001b[38;5;241m=\u001b[39m delimiter\u001b[38;5;241m.\u001b[39mdecode(\u001b[38;5;124m'\u001b[39m\u001b[38;5;124mlatin1\u001b[39m\u001b[38;5;124m'\u001b[39m)\n\u001b[0;32m-> 1356\u001b[0m arr \u001b[38;5;241m=\u001b[39m \u001b[43m_read\u001b[49m\u001b[43m(\u001b[49m\u001b[43mfname\u001b[49m\u001b[43m,\u001b[49m\u001b[43m \u001b[49m\u001b[43mdtype\u001b[49m\u001b[38;5;241;43m=\u001b[39;49m\u001b[43mdtype\u001b[49m\u001b[43m,\u001b[49m\u001b[43m \u001b[49m\u001b[43mcomment\u001b[49m\u001b[38;5;241;43m=\u001b[39;49m\u001b[43mcomment\u001b[49m\u001b[43m,\u001b[49m\u001b[43m \u001b[49m\u001b[43mdelimiter\u001b[49m\u001b[38;5;241;43m=\u001b[39;49m\u001b[43mdelimiter\u001b[49m\u001b[43m,\u001b[49m\n\u001b[1;32m   1357\u001b[0m \u001b[43m            \u001b[49m\u001b[43mconverters\u001b[49m\u001b[38;5;241;43m=\u001b[39;49m\u001b[43mconverters\u001b[49m\u001b[43m,\u001b[49m\u001b[43m \u001b[49m\u001b[43mskiplines\u001b[49m\u001b[38;5;241;43m=\u001b[39;49m\u001b[43mskiprows\u001b[49m\u001b[43m,\u001b[49m\u001b[43m \u001b[49m\u001b[43musecols\u001b[49m\u001b[38;5;241;43m=\u001b[39;49m\u001b[43musecols\u001b[49m\u001b[43m,\u001b[49m\n\u001b[1;32m   1358\u001b[0m \u001b[43m            \u001b[49m\u001b[43munpack\u001b[49m\u001b[38;5;241;43m=\u001b[39;49m\u001b[43munpack\u001b[49m\u001b[43m,\u001b[49m\u001b[43m \u001b[49m\u001b[43mndmin\u001b[49m\u001b[38;5;241;43m=\u001b[39;49m\u001b[43mndmin\u001b[49m\u001b[43m,\u001b[49m\u001b[43m \u001b[49m\u001b[43mencoding\u001b[49m\u001b[38;5;241;43m=\u001b[39;49m\u001b[43mencoding\u001b[49m\u001b[43m,\u001b[49m\n\u001b[1;32m   1359\u001b[0m \u001b[43m            \u001b[49m\u001b[43mmax_rows\u001b[49m\u001b[38;5;241;43m=\u001b[39;49m\u001b[43mmax_rows\u001b[49m\u001b[43m,\u001b[49m\u001b[43m \u001b[49m\u001b[43mquote\u001b[49m\u001b[38;5;241;43m=\u001b[39;49m\u001b[43mquotechar\u001b[49m\u001b[43m)\u001b[49m\n\u001b[1;32m   1361\u001b[0m \u001b[38;5;28;01mreturn\u001b[39;00m arr\n",
      "File \u001b[0;32m/opt/lsst/software/stack/conda/miniconda3-py38_4.9.2/envs/lsst-scipipe-7.0.1/lib/python3.11/site-packages/numpy/lib/npyio.py:900\u001b[0m, in \u001b[0;36m_read\u001b[0;34m(fname, delimiter, comment, quote, imaginary_unit, usecols, skiplines, max_rows, converters, ndmin, unpack, dtype, encoding)\u001b[0m\n\u001b[1;32m    898\u001b[0m \u001b[38;5;28;01mif\u001b[39;00m dtype \u001b[38;5;129;01mis\u001b[39;00m \u001b[38;5;28;01mNone\u001b[39;00m:\n\u001b[1;32m    899\u001b[0m     \u001b[38;5;28;01mraise\u001b[39;00m \u001b[38;5;167;01mTypeError\u001b[39;00m(\u001b[38;5;124m\"\u001b[39m\u001b[38;5;124ma dtype must be provided.\u001b[39m\u001b[38;5;124m\"\u001b[39m)\n\u001b[0;32m--> 900\u001b[0m dtype \u001b[38;5;241m=\u001b[39m \u001b[43mnp\u001b[49m\u001b[38;5;241;43m.\u001b[39;49m\u001b[43mdtype\u001b[49m\u001b[43m(\u001b[49m\u001b[43mdtype\u001b[49m\u001b[43m)\u001b[49m\n\u001b[1;32m    902\u001b[0m read_dtype_via_object_chunks \u001b[38;5;241m=\u001b[39m \u001b[38;5;28;01mNone\u001b[39;00m\n\u001b[1;32m    903\u001b[0m \u001b[38;5;28;01mif\u001b[39;00m dtype\u001b[38;5;241m.\u001b[39mkind \u001b[38;5;129;01min\u001b[39;00m \u001b[38;5;124m'\u001b[39m\u001b[38;5;124mSUM\u001b[39m\u001b[38;5;124m'\u001b[39m \u001b[38;5;129;01mand\u001b[39;00m (\n\u001b[1;32m    904\u001b[0m         dtype \u001b[38;5;241m==\u001b[39m \u001b[38;5;124m\"\u001b[39m\u001b[38;5;124mS0\u001b[39m\u001b[38;5;124m\"\u001b[39m \u001b[38;5;129;01mor\u001b[39;00m dtype \u001b[38;5;241m==\u001b[39m \u001b[38;5;124m\"\u001b[39m\u001b[38;5;124mU0\u001b[39m\u001b[38;5;124m\"\u001b[39m \u001b[38;5;129;01mor\u001b[39;00m dtype \u001b[38;5;241m==\u001b[39m \u001b[38;5;124m\"\u001b[39m\u001b[38;5;124mM8\u001b[39m\u001b[38;5;124m\"\u001b[39m \u001b[38;5;129;01mor\u001b[39;00m dtype \u001b[38;5;241m==\u001b[39m \u001b[38;5;124m'\u001b[39m\u001b[38;5;124mm8\u001b[39m\u001b[38;5;124m'\u001b[39m):\n\u001b[1;32m    905\u001b[0m     \u001b[38;5;66;03m# This is a legacy \"flexible\" dtype.  We do not truly support\u001b[39;00m\n\u001b[1;32m    906\u001b[0m     \u001b[38;5;66;03m# parametric dtypes currently (no dtype discovery step in the core),\u001b[39;00m\n\u001b[1;32m    907\u001b[0m     \u001b[38;5;66;03m# but have to support these for backward compatibility.\u001b[39;00m\n",
      "\u001b[0;31mTypeError\u001b[0m: data type 'array' not understood"
     ]
    }
   ],
   "source": [
    "np.loadtxt(\"PREOPS-4553_raw_data_calibration.txt\",dtype=\"array\")"
   ]
  },
  {
   "cell_type": "code",
   "execution_count": 2,
   "id": "8b63592f-7307-4f7a-948b-a21e1a84c890",
   "metadata": {
    "execution": {
     "iopub.execute_input": "2024-01-11T11:18:39.973190Z",
     "iopub.status.busy": "2024-01-11T11:18:39.972991Z",
     "iopub.status.idle": "2024-01-11T11:18:39.975636Z",
     "shell.execute_reply": "2024-01-11T11:18:39.975216Z",
     "shell.execute_reply.started": "2024-01-11T11:18:39.973177Z"
    }
   },
   "outputs": [],
   "source": [
    "import numpy as np"
   ]
  },
  {
   "cell_type": "code",
   "execution_count": 4,
   "id": "be71d679-9fd0-45fc-a6ea-40cb903b71e0",
   "metadata": {
    "execution": {
     "iopub.execute_input": "2024-01-11T11:19:02.127867Z",
     "iopub.status.busy": "2024-01-11T11:19:02.127565Z",
     "iopub.status.idle": "2024-01-11T11:19:02.130620Z",
     "shell.execute_reply": "2024-01-11T11:19:02.130270Z",
     "shell.execute_reply.started": "2024-01-11T11:19:02.127854Z"
    }
   },
   "outputs": [],
   "source": [
    "collection = \"LATISS/runs/AUXTEL_DRP_IMAGING_2023-11A-10A-09AB-08ABC-07AB-05AB/w_2023_46/PREOPS-4553\"\n",
    "calib_names, calib_types = np.loadtxt(f\"{collection.split('/')[-1]}_last_calibrations.txt\", dtype = 'str', delimiter = '\\t',unpack=True)"
   ]
  },
  {
   "cell_type": "code",
   "execution_count": 11,
   "id": "6c9e0178-ee46-4c0e-a8cf-42a9f5ac67a7",
   "metadata": {
    "execution": {
     "iopub.execute_input": "2024-01-11T13:08:03.418430Z",
     "iopub.status.busy": "2024-01-11T13:08:03.418214Z",
     "iopub.status.idle": "2024-01-11T13:08:03.451361Z",
     "shell.execute_reply": "2024-01-11T13:08:03.450859Z",
     "shell.execute_reply.started": "2024-01-11T13:08:03.418415Z"
    }
   },
   "outputs": [
    {
     "ename": "ValueError",
     "evalue": "could not convert string '[[0.5572045' to float64 at row 0, column 1.",
     "output_type": "error",
     "traceback": [
      "\u001b[0;31m---------------------------------------------------------------------------\u001b[0m",
      "\u001b[0;31mValueError\u001b[0m                                Traceback (most recent call last)",
      "\u001b[0;31mValueError\u001b[0m: could not convert string to float: '[[0.5572045'",
      "\nThe above exception was the direct cause of the following exception:\n",
      "\u001b[0;31mValueError\u001b[0m                                Traceback (most recent call last)",
      "Cell \u001b[0;32mIn[11], line 1\u001b[0m\n\u001b[0;32m----> 1\u001b[0m \u001b[43mnp\u001b[49m\u001b[38;5;241;43m.\u001b[39;49m\u001b[43mloadtxt\u001b[49m\u001b[43m(\u001b[49m\u001b[38;5;124;43mf\u001b[39;49m\u001b[38;5;124;43m\"\u001b[39;49m\u001b[38;5;132;43;01m{\u001b[39;49;00m\u001b[43mcollection\u001b[49m\u001b[38;5;241;43m.\u001b[39;49m\u001b[43msplit\u001b[49m\u001b[43m(\u001b[49m\u001b[38;5;124;43m'\u001b[39;49m\u001b[38;5;124;43m/\u001b[39;49m\u001b[38;5;124;43m'\u001b[39;49m\u001b[43m)\u001b[49m\u001b[43m[\u001b[49m\u001b[38;5;241;43m-\u001b[39;49m\u001b[38;5;241;43m1\u001b[39;49m\u001b[43m]\u001b[49m\u001b[38;5;132;43;01m}\u001b[39;49;00m\u001b[38;5;124;43m_data_calibration.txt\u001b[39;49m\u001b[38;5;124;43m\"\u001b[39;49m\u001b[43m,\u001b[49m\u001b[43mdtype\u001b[49m\u001b[38;5;241;43m=\u001b[39;49m\u001b[38;5;124;43m\"\u001b[39;49m\u001b[38;5;124;43mfloat\u001b[39;49m\u001b[38;5;124;43m\"\u001b[39;49m\u001b[43m)\u001b[49m\n",
      "File \u001b[0;32m/opt/lsst/software/stack/conda/miniconda3-py38_4.9.2/envs/lsst-scipipe-7.0.1/lib/python3.11/site-packages/numpy/lib/npyio.py:1356\u001b[0m, in \u001b[0;36mloadtxt\u001b[0;34m(fname, dtype, comments, delimiter, converters, skiprows, usecols, unpack, ndmin, encoding, max_rows, quotechar, like)\u001b[0m\n\u001b[1;32m   1353\u001b[0m \u001b[38;5;28;01mif\u001b[39;00m \u001b[38;5;28misinstance\u001b[39m(delimiter, \u001b[38;5;28mbytes\u001b[39m):\n\u001b[1;32m   1354\u001b[0m     delimiter \u001b[38;5;241m=\u001b[39m delimiter\u001b[38;5;241m.\u001b[39mdecode(\u001b[38;5;124m'\u001b[39m\u001b[38;5;124mlatin1\u001b[39m\u001b[38;5;124m'\u001b[39m)\n\u001b[0;32m-> 1356\u001b[0m arr \u001b[38;5;241m=\u001b[39m \u001b[43m_read\u001b[49m\u001b[43m(\u001b[49m\u001b[43mfname\u001b[49m\u001b[43m,\u001b[49m\u001b[43m \u001b[49m\u001b[43mdtype\u001b[49m\u001b[38;5;241;43m=\u001b[39;49m\u001b[43mdtype\u001b[49m\u001b[43m,\u001b[49m\u001b[43m \u001b[49m\u001b[43mcomment\u001b[49m\u001b[38;5;241;43m=\u001b[39;49m\u001b[43mcomment\u001b[49m\u001b[43m,\u001b[49m\u001b[43m \u001b[49m\u001b[43mdelimiter\u001b[49m\u001b[38;5;241;43m=\u001b[39;49m\u001b[43mdelimiter\u001b[49m\u001b[43m,\u001b[49m\n\u001b[1;32m   1357\u001b[0m \u001b[43m            \u001b[49m\u001b[43mconverters\u001b[49m\u001b[38;5;241;43m=\u001b[39;49m\u001b[43mconverters\u001b[49m\u001b[43m,\u001b[49m\u001b[43m \u001b[49m\u001b[43mskiplines\u001b[49m\u001b[38;5;241;43m=\u001b[39;49m\u001b[43mskiprows\u001b[49m\u001b[43m,\u001b[49m\u001b[43m \u001b[49m\u001b[43musecols\u001b[49m\u001b[38;5;241;43m=\u001b[39;49m\u001b[43musecols\u001b[49m\u001b[43m,\u001b[49m\n\u001b[1;32m   1358\u001b[0m \u001b[43m            \u001b[49m\u001b[43munpack\u001b[49m\u001b[38;5;241;43m=\u001b[39;49m\u001b[43munpack\u001b[49m\u001b[43m,\u001b[49m\u001b[43m \u001b[49m\u001b[43mndmin\u001b[49m\u001b[38;5;241;43m=\u001b[39;49m\u001b[43mndmin\u001b[49m\u001b[43m,\u001b[49m\u001b[43m \u001b[49m\u001b[43mencoding\u001b[49m\u001b[38;5;241;43m=\u001b[39;49m\u001b[43mencoding\u001b[49m\u001b[43m,\u001b[49m\n\u001b[1;32m   1359\u001b[0m \u001b[43m            \u001b[49m\u001b[43mmax_rows\u001b[49m\u001b[38;5;241;43m=\u001b[39;49m\u001b[43mmax_rows\u001b[49m\u001b[43m,\u001b[49m\u001b[43m \u001b[49m\u001b[43mquote\u001b[49m\u001b[38;5;241;43m=\u001b[39;49m\u001b[43mquotechar\u001b[49m\u001b[43m)\u001b[49m\n\u001b[1;32m   1361\u001b[0m \u001b[38;5;28;01mreturn\u001b[39;00m arr\n",
      "File \u001b[0;32m/opt/lsst/software/stack/conda/miniconda3-py38_4.9.2/envs/lsst-scipipe-7.0.1/lib/python3.11/site-packages/numpy/lib/npyio.py:999\u001b[0m, in \u001b[0;36m_read\u001b[0;34m(fname, delimiter, comment, quote, imaginary_unit, usecols, skiplines, max_rows, converters, ndmin, unpack, dtype, encoding)\u001b[0m\n\u001b[1;32m    996\u001b[0m     data \u001b[38;5;241m=\u001b[39m _preprocess_comments(data, comments, encoding)\n\u001b[1;32m    998\u001b[0m \u001b[38;5;28;01mif\u001b[39;00m read_dtype_via_object_chunks \u001b[38;5;129;01mis\u001b[39;00m \u001b[38;5;28;01mNone\u001b[39;00m:\n\u001b[0;32m--> 999\u001b[0m     arr \u001b[38;5;241m=\u001b[39m \u001b[43m_load_from_filelike\u001b[49m\u001b[43m(\u001b[49m\n\u001b[1;32m   1000\u001b[0m \u001b[43m        \u001b[49m\u001b[43mdata\u001b[49m\u001b[43m,\u001b[49m\u001b[43m \u001b[49m\u001b[43mdelimiter\u001b[49m\u001b[38;5;241;43m=\u001b[39;49m\u001b[43mdelimiter\u001b[49m\u001b[43m,\u001b[49m\u001b[43m \u001b[49m\u001b[43mcomment\u001b[49m\u001b[38;5;241;43m=\u001b[39;49m\u001b[43mcomment\u001b[49m\u001b[43m,\u001b[49m\u001b[43m \u001b[49m\u001b[43mquote\u001b[49m\u001b[38;5;241;43m=\u001b[39;49m\u001b[43mquote\u001b[49m\u001b[43m,\u001b[49m\n\u001b[1;32m   1001\u001b[0m \u001b[43m        \u001b[49m\u001b[43mimaginary_unit\u001b[49m\u001b[38;5;241;43m=\u001b[39;49m\u001b[43mimaginary_unit\u001b[49m\u001b[43m,\u001b[49m\n\u001b[1;32m   1002\u001b[0m \u001b[43m        \u001b[49m\u001b[43musecols\u001b[49m\u001b[38;5;241;43m=\u001b[39;49m\u001b[43musecols\u001b[49m\u001b[43m,\u001b[49m\u001b[43m \u001b[49m\u001b[43mskiplines\u001b[49m\u001b[38;5;241;43m=\u001b[39;49m\u001b[43mskiplines\u001b[49m\u001b[43m,\u001b[49m\u001b[43m \u001b[49m\u001b[43mmax_rows\u001b[49m\u001b[38;5;241;43m=\u001b[39;49m\u001b[43mmax_rows\u001b[49m\u001b[43m,\u001b[49m\n\u001b[1;32m   1003\u001b[0m \u001b[43m        \u001b[49m\u001b[43mconverters\u001b[49m\u001b[38;5;241;43m=\u001b[39;49m\u001b[43mconverters\u001b[49m\u001b[43m,\u001b[49m\u001b[43m \u001b[49m\u001b[43mdtype\u001b[49m\u001b[38;5;241;43m=\u001b[39;49m\u001b[43mdtype\u001b[49m\u001b[43m,\u001b[49m\n\u001b[1;32m   1004\u001b[0m \u001b[43m        \u001b[49m\u001b[43mencoding\u001b[49m\u001b[38;5;241;43m=\u001b[39;49m\u001b[43mencoding\u001b[49m\u001b[43m,\u001b[49m\u001b[43m \u001b[49m\u001b[43mfilelike\u001b[49m\u001b[38;5;241;43m=\u001b[39;49m\u001b[43mfilelike\u001b[49m\u001b[43m,\u001b[49m\n\u001b[1;32m   1005\u001b[0m \u001b[43m        \u001b[49m\u001b[43mbyte_converters\u001b[49m\u001b[38;5;241;43m=\u001b[39;49m\u001b[43mbyte_converters\u001b[49m\u001b[43m)\u001b[49m\n\u001b[1;32m   1007\u001b[0m \u001b[38;5;28;01melse\u001b[39;00m:\n\u001b[1;32m   1008\u001b[0m     \u001b[38;5;66;03m# This branch reads the file into chunks of object arrays and then\u001b[39;00m\n\u001b[1;32m   1009\u001b[0m     \u001b[38;5;66;03m# casts them to the desired actual dtype.  This ensures correct\u001b[39;00m\n\u001b[1;32m   1010\u001b[0m     \u001b[38;5;66;03m# string-length and datetime-unit discovery (like `arr.astype()`).\u001b[39;00m\n\u001b[1;32m   1011\u001b[0m     \u001b[38;5;66;03m# Due to chunking, certain error reports are less clear, currently.\u001b[39;00m\n\u001b[1;32m   1012\u001b[0m     \u001b[38;5;28;01mif\u001b[39;00m filelike:\n",
      "\u001b[0;31mValueError\u001b[0m: could not convert string '[[0.5572045' to float64 at row 0, column 1."
     ]
    }
   ],
   "source": [
    "np.loadtxt(f\"{collection.split('/')[-1]}_data_calibration.txt\",dtype=\"float\")"
   ]
  },
  {
   "cell_type": "code",
   "execution_count": 12,
   "id": "c80d5106-77e1-4727-81bb-b3f58e136c26",
   "metadata": {
    "execution": {
     "iopub.execute_input": "2024-01-11T13:12:22.951804Z",
     "iopub.status.busy": "2024-01-11T13:12:22.951481Z",
     "iopub.status.idle": "2024-01-11T13:12:22.955089Z",
     "shell.execute_reply": "2024-01-11T13:12:22.954634Z",
     "shell.execute_reply.started": "2024-01-11T13:12:22.951789Z"
    }
   },
   "outputs": [
    {
     "ename": "SyntaxError",
     "evalue": "invalid syntax. Perhaps you forgot a comma? (<string>, line 1)",
     "output_type": "error",
     "traceback": [
      "Traceback \u001b[0;36m(most recent call last)\u001b[0m:\n",
      "\u001b[0m  File \u001b[1;32m/opt/lsst/software/stack/conda/miniconda3-py38_4.9.2/envs/lsst-scipipe-7.0.1/lib/python3.11/site-packages/IPython/core/interactiveshell.py:3548\u001b[0m in \u001b[1;35mrun_code\u001b[0m\n    exec(code_obj, self.user_global_ns, self.user_ns)\u001b[0m\n",
      "\u001b[0m  Cell \u001b[1;32mIn[12], line 2\u001b[0m\n    arrays = [eval(line.strip()) for line in file]\u001b[0m\n",
      "\u001b[0;36m  Cell \u001b[0;32mIn[12], line 2\u001b[0;36m in \u001b[0;35m<listcomp>\u001b[0;36m\n\u001b[0;31m    arrays = [eval(line.strip()) for line in file]\u001b[0;36m\n",
      "\u001b[0;36m  File \u001b[0;32m<string>:1\u001b[0;36m\u001b[0m\n\u001b[0;31m    [[0.5572045  0.5446379  0.54021287 ... 0.5387925  0.5418706  0.55454063]\u001b[0m\n\u001b[0m      ^\u001b[0m\n\u001b[0;31mSyntaxError\u001b[0m\u001b[0;31m:\u001b[0m invalid syntax. Perhaps you forgot a comma?\n"
     ]
    }
   ],
   "source": [
    "with open(f\"{collection.split('/')[-1]}_data_calibration.txt\", 'r') as file:\n",
    "    arrays = [eval(line.strip()) for line in file]\n",
    "\n",
    "# Display the arrays\n",
    "for arr in arrays:\n",
    "    print(arr)"
   ]
  },
  {
   "cell_type": "code",
   "execution_count": 16,
   "id": "ebe583f7-e1c0-4c37-9d3e-ceb44e2ecd18",
   "metadata": {
    "execution": {
     "iopub.execute_input": "2024-01-11T13:14:50.280713Z",
     "iopub.status.busy": "2024-01-11T13:14:50.280492Z",
     "iopub.status.idle": "2024-01-11T13:14:58.260766Z",
     "shell.execute_reply": "2024-01-11T13:14:58.260237Z",
     "shell.execute_reply.started": "2024-01-11T13:14:50.280700Z"
    }
   },
   "outputs": [
    {
     "name": "stdout",
     "output_type": "stream",
     "text": [
      "defects!\n",
      "crosstalk!\n"
     ]
    }
   ],
   "source": [
    "calib_names, calib_types = np.loadtxt(f\"{collection.split('/')[-1]}_last_calibrations.txt\", dtype = 'str', delimiter = '\\t',unpack=True)\n",
    "coll_paths, physical_filters = np.loadtxt(f\"{collection.split('/')[-1]}_calibrations_access.txt\", dtype = 'str', delimiter = '\\t',unpack=True)\n",
    "\n",
    "calib_arr = [[] for i in range(len(coll_paths))]\n",
    "for i, cal_n in enumerate(coll_paths):\n",
    "    if \"flat\" not in calib_types[i] :     \n",
    "        file = butler.get(calib_types[i], instrument='LATISS',detector=0, collections=cal_n)\n",
    "        if calib_types[i]==\"bias\" or calib_types[i]==\"dark\":\n",
    "            calib_arr[i] = file.getImage().getArray()\n",
    "        if calib_types[i]==\"defects\" :\n",
    "            print(\"defects!\")\n",
    "            calib_arr[i] = file.toTable()[0]\n",
    "        if calib_types[i]==\"crosstalk\":\n",
    "            print(\"crosstalk!\")\n",
    "            calib_arr[i] = file.coeffs\n",
    "    else : \n",
    "        file = butler.get(\"flat\", instrument='LATISS', physical_filter=physical_filters[i] , detector=0, collections=cal_n)\n",
    "        calib_arr[i] = file.getImage().getArray()\n",
    "\n",
    "\n",
    "\n",
    "defects = calib_arr[np.where(calib_types==\"defects\")[0][0]]\n",
    "msk = np.ones((4000,4072))\n",
    "for defect in defects :\n",
    "    x0  = defect['x0']\n",
    "    y0  = defect['y0']\n",
    "    width  = defect['width']\n",
    "    height  = defect['height']\n",
    "    for x in range(x0, x0 + width):\n",
    "        for y in range(y0, y0 + height):\n",
    "            msk[y][x] = 0\n",
    "    calib_arr[np.where(calib_types==\"defects\")[0][0]]=msk"
   ]
  },
  {
   "cell_type": "code",
   "execution_count": 18,
   "id": "e2987a10-7864-4ec6-b33b-60099640e3b7",
   "metadata": {
    "execution": {
     "iopub.execute_input": "2024-01-11T13:15:23.096684Z",
     "iopub.status.busy": "2024-01-11T13:15:23.096468Z",
     "iopub.status.idle": "2024-01-11T13:15:23.099227Z",
     "shell.execute_reply": "2024-01-11T13:15:23.098850Z",
     "shell.execute_reply.started": "2024-01-11T13:15:23.096668Z"
    }
   },
   "outputs": [],
   "source": [
    "from astropy.table import Table"
   ]
  },
  {
   "cell_type": "code",
   "execution_count": 43,
   "id": "a57241c0-c29c-4533-a897-00e8e8610a3e",
   "metadata": {
    "execution": {
     "iopub.execute_input": "2024-01-11T13:26:23.494974Z",
     "iopub.status.busy": "2024-01-11T13:26:23.494774Z",
     "iopub.status.idle": "2024-01-11T13:26:23.497411Z",
     "shell.execute_reply": "2024-01-11T13:26:23.497048Z",
     "shell.execute_reply.started": "2024-01-11T13:26:23.494961Z"
    }
   },
   "outputs": [],
   "source": [
    "dict = {\"calib_data\":calib_arr, \"calib_names\":calib_types}"
   ]
  },
  {
   "cell_type": "code",
   "execution_count": 44,
   "id": "5edfaf89-a8e1-411f-b46d-889ec3b3c3b6",
   "metadata": {
    "execution": {
     "iopub.execute_input": "2024-01-11T13:26:40.710063Z",
     "iopub.status.busy": "2024-01-11T13:26:40.709844Z",
     "iopub.status.idle": "2024-01-11T13:26:41.148893Z",
     "shell.execute_reply": "2024-01-11T13:26:41.148400Z",
     "shell.execute_reply.started": "2024-01-11T13:26:40.710048Z"
    }
   },
   "outputs": [],
   "source": [
    "import pickle\n",
    "\n",
    "# Your dictionary\n",
    "\n",
    "# Save the dictionary to a file using pickle\n",
    "with open('my_dict_test.pkl', 'wb') as file:\n",
    "    pickle.dump(dict, file)"
   ]
  },
  {
   "cell_type": "code",
   "execution_count": 46,
   "id": "520a9c10-72a8-4154-948e-cfb86085fc99",
   "metadata": {
    "execution": {
     "iopub.execute_input": "2024-01-11T13:27:08.191436Z",
     "iopub.status.busy": "2024-01-11T13:27:08.191225Z",
     "iopub.status.idle": "2024-01-11T13:27:08.431828Z",
     "shell.execute_reply": "2024-01-11T13:27:08.431386Z",
     "shell.execute_reply.started": "2024-01-11T13:27:08.191420Z"
    }
   },
   "outputs": [
    {
     "name": "stdout",
     "output_type": "stream",
     "text": [
      "{'calib_data': [array([[0.5572045 , 0.5446379 , 0.54021287, ..., 0.5387925 , 0.5418706 ,\n",
      "        0.55454063],\n",
      "       [0.7214014 , 0.71764904, 0.7174892 , ..., 0.6972188 , 0.707039  ,\n",
      "        0.6988728 ],\n",
      "       [0.7837816 , 0.79516584, 0.79410744, ..., 0.7748249 , 0.77971786,\n",
      "        0.757288  ],\n",
      "       ...,\n",
      "       [0.7926851 , 0.7957241 , 0.8039826 , ..., 0.8150578 , 0.79769206,\n",
      "        0.7882936 ],\n",
      "       [0.71867424, 0.71907014, 0.72177416, ..., 0.7314326 , 0.7372414 ,\n",
      "        0.72408205],\n",
      "       [0.56404746, 0.5552264 , 0.5475206 , ..., 0.56067485, 0.5628423 ,\n",
      "        0.5809347 ]], dtype=float32), array([[0.53118426, 0.519401  , 0.51501966, ..., 0.523724  , 0.526197  ,\n",
      "        0.5394344 ],\n",
      "       [0.691123  , 0.68724287, 0.6884574 , ..., 0.6790806 , 0.6878154 ,\n",
      "        0.68083817],\n",
      "       [0.755341  , 0.76125145, 0.7640907 , ..., 0.75186515, 0.7645376 ,\n",
      "        0.7465358 ],\n",
      "       ...,\n",
      "       [0.79438263, 0.79894364, 0.80488753, ..., 0.821287  , 0.80251116,\n",
      "        0.7927004 ],\n",
      "       [0.72042406, 0.71971893, 0.7221339 , ..., 0.735372  , 0.738317  ,\n",
      "        0.7286132 ],\n",
      "       [0.56558037, 0.55305445, 0.5434498 , ..., 0.5617544 , 0.56609994,\n",
      "        0.5835881 ]], dtype=float32), array([[0.5260515 , 0.5139311 , 0.50995296, ..., 0.5309905 , 0.5298917 ,\n",
      "        0.5407272 ],\n",
      "       [0.6835112 , 0.6787517 , 0.6790853 , ..., 0.6834096 , 0.6931233 ,\n",
      "        0.6825336 ],\n",
      "       [0.74341047, 0.7533898 , 0.7516927 , ..., 0.7511993 , 0.78599393,\n",
      "        0.7658935 ],\n",
      "       ...,\n",
      "       [0.78820646, 0.79095745, 0.7959417 , ..., 0.83513594, 0.81707066,\n",
      "        0.80618864],\n",
      "       [0.71549255, 0.71323705, 0.71430266, ..., 0.74626124, 0.754323  ,\n",
      "        0.7410096 ],\n",
      "       [0.5611995 , 0.5487554 , 0.5415498 , ..., 0.5714623 , 0.5767249 ,\n",
      "        0.59344417]], dtype=float32), array([[1., 1., 1., ..., 1., 1., 1.],\n",
      "       [1., 1., 1., ..., 1., 1., 1.],\n",
      "       [1., 1., 1., ..., 1., 1., 1.],\n",
      "       ...,\n",
      "       [1., 1., 1., ..., 1., 1., 1.],\n",
      "       [1., 1., 1., ..., 1., 1., 1.],\n",
      "       [1., 1., 1., ..., 1., 1., 1.]]), array([[-0.04168844,  0.01879784,  0.08123881, ..., -0.05567029,\n",
      "         0.05135338, -0.13567556],\n",
      "       [-0.08550237,  0.15162966, -0.03988761, ...,  0.02317207,\n",
      "         0.00714302, -0.05432408],\n",
      "       [ 0.08084349, -0.02434086,  0.13498765, ...,  0.0096118 ,\n",
      "         0.04453782, -0.05088754],\n",
      "       ...,\n",
      "       [ 0.01223799, -0.04325746,  0.01373272, ..., -0.03076998,\n",
      "        -0.02112245, -0.01964985],\n",
      "       [-0.10376193,  0.01317381,  0.01292841, ..., -0.03830409,\n",
      "        -0.06980523, -0.02844927],\n",
      "       [-0.02564387, -0.05765276,  0.04320485, ..., -0.08425498,\n",
      "         0.03273935, -0.04208207]], dtype=float32), array([[-0.863276  ,  0.2358092 , -1.9689058 , ...,  0.1526779 ,\n",
      "        -0.99787   ,  0.45491633],\n",
      "       [ 1.4115597 , -2.9874005 ,  0.9947448 , ..., -0.02571768,\n",
      "        -0.6025105 ,  0.41385287],\n",
      "       [ 0.02563414, -0.85411876, -1.0665271 , ..., -0.12480616,\n",
      "        -1.4756793 , -1.6286763 ],\n",
      "       ...,\n",
      "       [ 0.37739453,  1.0246592 ,  0.56357753, ...,  0.0176957 ,\n",
      "        -0.2863406 , -1.4429235 ],\n",
      "       [ 2.5952399 , -0.48002797,  0.533927  , ...,  0.28111273,\n",
      "         0.9175564 , -0.6560611 ],\n",
      "       [-0.7528054 ,  1.2927809 , -1.1560043 , ...,  1.4664497 ,\n",
      "        -0.3218582 ,  0.19577381]], dtype=float32), array([[0.00000000e+00, 1.35567350e-04, 2.12072266e-05, 8.52183217e-06,\n",
      "        3.48150040e-07, 3.49318197e-06, 1.77419743e-06, 0.00000000e+00,\n",
      "        0.00000000e+00, 0.00000000e+00, 6.62398419e-08, 0.00000000e+00,\n",
      "        0.00000000e+00, 0.00000000e+00, 2.86405942e-06, 3.57817430e-05],\n",
      "       [2.06497854e-04, 0.00000000e+00, 2.20243043e-04, 5.79033171e-05,\n",
      "        4.59381003e-05, 2.80140977e-05, 1.18616260e-05, 1.63705736e-06,\n",
      "        0.00000000e+00, 0.00000000e+00, 0.00000000e+00, 0.00000000e+00,\n",
      "        0.00000000e+00, 2.83113295e-06, 0.00000000e+00, 2.66771957e-05],\n",
      "       [3.83107169e-05, 2.39972276e-04, 0.00000000e+00, 2.17237245e-04,\n",
      "        6.14284722e-05, 5.07460819e-05, 6.38135915e-06, 1.14019232e-06,\n",
      "        1.66811500e-07, 0.00000000e+00, 0.00000000e+00, 0.00000000e+00,\n",
      "        1.04952278e-05, 8.24884804e-07, 1.44881867e-05, 0.00000000e+00],\n",
      "       [3.54888816e-05, 3.40231367e-05, 3.58520001e-04, 0.00000000e+00,\n",
      "        1.35303662e-04, 3.30329719e-05, 7.41672241e-06, 0.00000000e+00,\n",
      "        0.00000000e+00, 0.00000000e+00, 0.00000000e+00, 0.00000000e+00,\n",
      "        3.97106818e-07, 2.29065423e-05, 7.45236037e-06, 0.00000000e+00],\n",
      "       [1.28023286e-05, 4.17098182e-05, 4.52879926e-05, 1.91586800e-04,\n",
      "        0.00000000e+00, 2.75243992e-04, 0.00000000e+00, 4.58455352e-06,\n",
      "        0.00000000e+00, 1.19626703e-05, 4.36748529e-05, 0.00000000e+00,\n",
      "        0.00000000e+00, 7.69800868e-06, 0.00000000e+00, 0.00000000e+00],\n",
      "       [3.59299484e-06, 2.32679944e-05, 4.22184379e-05, 1.35286551e-05,\n",
      "        8.62249304e-04, 0.00000000e+00, 1.08008204e-04, 7.52286553e-06,\n",
      "        2.69440219e-06, 5.26742820e-06, 1.10848610e-05, 2.34962119e-05,\n",
      "        0.00000000e+00, 0.00000000e+00, 0.00000000e+00, 4.94339146e-06],\n",
      "       [4.00179801e-07, 4.41571374e-06, 4.38923960e-06, 0.00000000e+00,\n",
      "        0.00000000e+00, 2.49640573e-04, 0.00000000e+00, 1.38559759e-04,\n",
      "        3.74647495e-06, 1.60068272e-05, 2.31154680e-05, 1.03849010e-05,\n",
      "        0.00000000e+00, 0.00000000e+00, 0.00000000e+00, 1.04155246e-06],\n",
      "       [0.00000000e+00, 0.00000000e+00, 0.00000000e+00, 0.00000000e+00,\n",
      "        0.00000000e+00, 0.00000000e+00, 1.54178790e-03, 0.00000000e+00,\n",
      "        3.35421410e-05, 1.80072564e-05, 0.00000000e+00, 0.00000000e+00,\n",
      "        0.00000000e+00, 0.00000000e+00, 0.00000000e+00, 0.00000000e+00],\n",
      "       [0.00000000e+00, 1.45444042e-06, 9.12221461e-06, 0.00000000e+00,\n",
      "        0.00000000e+00, 0.00000000e+00, 0.00000000e+00, 2.82050749e-06,\n",
      "        0.00000000e+00, 1.39995129e-04, 0.00000000e+00, 0.00000000e+00,\n",
      "        0.00000000e+00, 0.00000000e+00, 1.19108343e-06, 4.69852636e-07],\n",
      "       [1.21329997e-05, 0.00000000e+00, 0.00000000e+00, 0.00000000e+00,\n",
      "        3.87596631e-06, 1.37918367e-06, 1.94593248e-05, 1.41062429e-05,\n",
      "        3.27021492e-04, 0.00000000e+00, 1.90662053e-04, 0.00000000e+00,\n",
      "        1.10223355e-05, 1.48456276e-05, 1.31345848e-05, 1.48196282e-05],\n",
      "       [2.06831850e-05, 0.00000000e+00, 0.00000000e+00, 0.00000000e+00,\n",
      "        4.28099195e-05, 1.24336398e-05, 2.29821654e-05, 0.00000000e+00,\n",
      "        0.00000000e+00, 6.59191014e-05, 0.00000000e+00, 5.10078868e-04,\n",
      "        2.96172066e-05, 5.03530321e-05, 3.01289604e-05, 1.83070863e-05],\n",
      "       [0.00000000e+00, 0.00000000e+00, 2.40798864e-06, 0.00000000e+00,\n",
      "        0.00000000e+00, 1.90845237e-05, 2.38222447e-06, 0.00000000e+00,\n",
      "        0.00000000e+00, 0.00000000e+00, 7.21538772e-04, 0.00000000e+00,\n",
      "        1.54153245e-04, 3.62951867e-05, 5.45212219e-05, 2.58252769e-05],\n",
      "       [0.00000000e+00, 3.99288784e-07, 1.25357753e-05, 1.43165409e-06,\n",
      "        0.00000000e+00, 0.00000000e+00, 0.00000000e+00, 0.00000000e+00,\n",
      "        0.00000000e+00, 0.00000000e+00, 1.04848175e-05, 8.95406289e-05,\n",
      "        0.00000000e+00, 2.09746453e-04, 4.35477415e-05, 2.93736363e-05],\n",
      "       [0.00000000e+00, 9.84246879e-06, 6.42865191e-06, 1.93452783e-05,\n",
      "        1.11312695e-06, 0.00000000e+00, 0.00000000e+00, 1.14355597e-05,\n",
      "        0.00000000e+00, 0.00000000e+00, 3.49295690e-05, 2.08585875e-05,\n",
      "        3.20449072e-04, 0.00000000e+00, 1.99677428e-04, 1.77422644e-05],\n",
      "       [2.08843523e-06, 0.00000000e+00, 1.23994578e-05, 0.00000000e+00,\n",
      "        0.00000000e+00, 0.00000000e+00, 0.00000000e+00, 0.00000000e+00,\n",
      "        3.56879663e-06, 0.00000000e+00, 2.19064885e-05, 3.21369930e-05,\n",
      "        4.25061497e-05, 1.55382753e-04, 0.00000000e+00, 2.15223448e-04],\n",
      "       [2.91493536e-05, 1.79958951e-05, 0.00000000e+00, 0.00000000e+00,\n",
      "        0.00000000e+00, 1.27123609e-06, 4.10057941e-06, 0.00000000e+00,\n",
      "        0.00000000e+00, 1.49576504e-06, 0.00000000e+00, 0.00000000e+00,\n",
      "        0.00000000e+00, 0.00000000e+00, 6.73238730e-04, 0.00000000e+00]])], 'calib_names': array(['flat-i', 'flat-r', 'flat-g', 'defects', 'dark', 'bias',\n",
      "       'crosstalk'], dtype='<U40')}\n"
     ]
    }
   ],
   "source": [
    "with open('my_dict_test.pkl', 'rb') as file:\n",
    "    loaded_dict = pickle.load(file)\n",
    "\n",
    "# Display the loaded dictionary\n",
    "print(loaded_dict)"
   ]
  },
  {
   "cell_type": "code",
   "execution_count": 19,
   "id": "c4891361-b34d-4c69-b667-5fc7dca24ee6",
   "metadata": {
    "execution": {
     "iopub.execute_input": "2024-01-11T13:15:27.246310Z",
     "iopub.status.busy": "2024-01-11T13:15:27.245905Z",
     "iopub.status.idle": "2024-01-11T13:15:27.248773Z",
     "shell.execute_reply": "2024-01-11T13:15:27.248376Z",
     "shell.execute_reply.started": "2024-01-11T13:15:27.246296Z"
    }
   },
   "outputs": [],
   "source": [
    "summary_table = Table()#\"calib_name\":calib_names, \"calib_type\":calib_types, "
   ]
  },
  {
   "cell_type": "code",
   "execution_count": 29,
   "id": "3d867163-963b-4023-ae06-71a7f46d9fbd",
   "metadata": {
    "execution": {
     "iopub.execute_input": "2024-01-11T13:17:20.647853Z",
     "iopub.status.busy": "2024-01-11T13:17:20.647641Z",
     "iopub.status.idle": "2024-01-11T13:17:20.650310Z",
     "shell.execute_reply": "2024-01-11T13:17:20.649897Z",
     "shell.execute_reply.started": "2024-01-11T13:17:20.647838Z"
    }
   },
   "outputs": [],
   "source": [
    "#calib_arr[7]"
   ]
  },
  {
   "cell_type": "code",
   "execution_count": 20,
   "id": "0ee8707b-f099-4501-8ac5-925a48162787",
   "metadata": {
    "execution": {
     "iopub.execute_input": "2024-01-11T13:15:34.263741Z",
     "iopub.status.busy": "2024-01-11T13:15:34.263448Z",
     "iopub.status.idle": "2024-01-11T13:15:34.271762Z",
     "shell.execute_reply": "2024-01-11T13:15:34.271402Z",
     "shell.execute_reply.started": "2024-01-11T13:15:34.263729Z"
    }
   },
   "outputs": [
    {
     "data": {
      "text/html": [
       "<div><i>Table length=7</i>\n",
       "<table id=\"table140717252765776\" class=\"table-striped table-bordered table-condensed\">\n",
       "<thead><tr><th>calib_data</th></tr></thead>\n",
       "<thead><tr><th>object</th></tr></thead>\n",
       "<tr><td>[[0.5572045  0.5446379  0.54021287 ... 0.5387925  0.5418706  0.55454063]\\n [0.7214014  0.71764904 0.7174892  ... 0.6972188  0.707039   0.6988728 ]\\n [0.7837816  0.79516584 0.79410744 ... 0.7748249  0.77971786 0.757288  ]\\n ...\\n [0.7926851  0.7957241  0.8039826  ... 0.8150578  0.79769206 0.7882936 ]\\n [0.71867424 0.71907014 0.72177416 ... 0.7314326  0.7372414  0.72408205]\\n [0.56404746 0.5552264  0.5475206  ... 0.56067485 0.5628423  0.5809347 ]]</td></tr>\n",
       "<tr><td>[[0.53118426 0.519401   0.51501966 ... 0.523724   0.526197   0.5394344 ]\\n [0.691123   0.68724287 0.6884574  ... 0.6790806  0.6878154  0.68083817]\\n [0.755341   0.76125145 0.7640907  ... 0.75186515 0.7645376  0.7465358 ]\\n ...\\n [0.79438263 0.79894364 0.80488753 ... 0.821287   0.80251116 0.7927004 ]\\n [0.72042406 0.71971893 0.7221339  ... 0.735372   0.738317   0.7286132 ]\\n [0.56558037 0.55305445 0.5434498  ... 0.5617544  0.56609994 0.5835881 ]]</td></tr>\n",
       "<tr><td>[[0.5260515  0.5139311  0.50995296 ... 0.5309905  0.5298917  0.5407272 ]\\n [0.6835112  0.6787517  0.6790853  ... 0.6834096  0.6931233  0.6825336 ]\\n [0.74341047 0.7533898  0.7516927  ... 0.7511993  0.78599393 0.7658935 ]\\n ...\\n [0.78820646 0.79095745 0.7959417  ... 0.83513594 0.81707066 0.80618864]\\n [0.71549255 0.71323705 0.71430266 ... 0.74626124 0.754323   0.7410096 ]\\n [0.5611995  0.5487554  0.5415498  ... 0.5714623  0.5767249  0.59344417]]</td></tr>\n",
       "<tr><td>[[1. 1. 1. ... 1. 1. 1.]\\n [1. 1. 1. ... 1. 1. 1.]\\n [1. 1. 1. ... 1. 1. 1.]\\n ...\\n [1. 1. 1. ... 1. 1. 1.]\\n [1. 1. 1. ... 1. 1. 1.]\\n [1. 1. 1. ... 1. 1. 1.]]</td></tr>\n",
       "<tr><td>[[-0.04168844  0.01879784  0.08123881 ... -0.05567029  0.05135338\\n  -0.13567556]\\n [-0.08550237  0.15162966 -0.03988761 ...  0.02317207  0.00714302\\n  -0.05432408]\\n [ 0.08084349 -0.02434086  0.13498765 ...  0.0096118   0.04453782\\n  -0.05088754]\\n ...\\n [ 0.01223799 -0.04325746  0.01373272 ... -0.03076998 -0.02112245\\n  -0.01964985]\\n [-0.10376193  0.01317381  0.01292841 ... -0.03830409 -0.06980523\\n  -0.02844927]\\n [-0.02564387 -0.05765276  0.04320485 ... -0.08425498  0.03273935\\n  -0.04208207]]</td></tr>\n",
       "<tr><td>[[-0.863276    0.2358092  -1.9689058  ...  0.1526779  -0.99787\\n   0.45491633]\\n [ 1.4115597  -2.9874005   0.9947448  ... -0.02571768 -0.6025105\\n   0.41385287]\\n [ 0.02563414 -0.85411876 -1.0665271  ... -0.12480616 -1.4756793\\n  -1.6286763 ]\\n ...\\n [ 0.37739453  1.0246592   0.56357753 ...  0.0176957  -0.2863406\\n  -1.4429235 ]\\n [ 2.5952399  -0.48002797  0.533927   ...  0.28111273  0.9175564\\n  -0.6560611 ]\\n [-0.7528054   1.2927809  -1.1560043  ...  1.4664497  -0.3218582\\n   0.19577381]]</td></tr>\n",
       "<tr><td>[[0.00000000e+00 1.35567350e-04 2.12072266e-05 8.52183217e-06\\n  3.48150040e-07 3.49318197e-06 1.77419743e-06 0.00000000e+00\\n  0.00000000e+00 0.00000000e+00 6.62398419e-08 0.00000000e+00\\n  0.00000000e+00 0.00000000e+00 2.86405942e-06 3.57817430e-05]\\n [2.06497854e-04 0.00000000e+00 2.20243043e-04 5.79033171e-05\\n  4.59381003e-05 2.80140977e-05 1.18616260e-05 1.63705736e-06\\n  0.00000000e+00 0.00000000e+00 0.00000000e+00 0.00000000e+00\\n  0.00000000e+00 2.83113295e-06 0.00000000e+00 2.66771957e-05]\\n [3.83107169e-05 2.39972276e-04 0.00000000e+00 2.17237245e-04\\n  6.14284722e-05 5.07460819e-05 6.38135915e-06 1.14019232e-06\\n  1.66811500e-07 0.00000000e+00 0.00000000e+00 0.00000000e+00\\n  1.04952278e-05 8.24884804e-07 1.44881867e-05 0.00000000e+00]\\n [3.54888816e-05 3.40231367e-05 3.58520001e-04 0.00000000e+00\\n  1.35303662e-04 3.30329719e-05 7.41672241e-06 0.00000000e+00\\n  0.00000000e+00 0.00000000e+00 0.00000000e+00 0.00000000e+00\\n  3.97106818e-07 2.29065423e-05 7.45236037e-06 0.00000000e+00]\\n [1.28023286e-05 4.17098182e-05 4.52879926e-05 1.91586800e-04\\n  0.00000000e+00 2.75243992e-04 0.00000000e+00 4.58455352e-06\\n  0.00000000e+00 1.19626703e-05 4.36748529e-05 0.00000000e+00\\n  0.00000000e+00 7.69800868e-06 0.00000000e+00 0.00000000e+00]\\n [3.59299484e-06 2.32679944e-05 4.22184379e-05 1.35286551e-05\\n  8.62249304e-04 0.00000000e+00 1.08008204e-04 7.52286553e-06\\n  2.69440219e-06 5.26742820e-06 1.10848610e-05 2.34962119e-05\\n  0.00000000e+00 0.00000000e+00 0.00000000e+00 4.94339146e-06]\\n [4.00179801e-07 4.41571374e-06 4.38923960e-06 0.00000000e+00\\n  0.00000000e+00 2.49640573e-04 0.00000000e+00 1.38559759e-04\\n  3.74647495e-06 1.60068272e-05 2.31154680e-05 1.03849010e-05\\n  0.00000000e+00 0.00000000e+00 0.00000000e+00 1.04155246e-06]\\n [0.00000000e+00 0.00000000e+00 0.00000000e+00 0.00000000e+00\\n  0.00000000e+00 0.00000000e+00 1.54178790e-03 0.00000000e+00\\n  3.35421410e-05 1.80072564e-05 0.00000000e+00 0.00000000e+00\\n  0.00000000e+00 0.00000000e+00 0.00000000e+00 0.00000000e+00]\\n [0.00000000e+00 1.45444042e-06 9.12221461e-06 0.00000000e+00\\n  0.00000000e+00 0.00000000e+00 0.00000000e+00 2.82050749e-06\\n  0.00000000e+00 1.39995129e-04 0.00000000e+00 0.00000000e+00\\n  0.00000000e+00 0.00000000e+00 1.19108343e-06 4.69852636e-07]\\n [1.21329997e-05 0.00000000e+00 0.00000000e+00 0.00000000e+00\\n  3.87596631e-06 1.37918367e-06 1.94593248e-05 1.41062429e-05\\n  3.27021492e-04 0.00000000e+00 1.90662053e-04 0.00000000e+00\\n  1.10223355e-05 1.48456276e-05 1.31345848e-05 1.48196282e-05]\\n [2.06831850e-05 0.00000000e+00 0.00000000e+00 0.00000000e+00\\n  4.28099195e-05 1.24336398e-05 2.29821654e-05 0.00000000e+00\\n  0.00000000e+00 6.59191014e-05 0.00000000e+00 5.10078868e-04\\n  2.96172066e-05 5.03530321e-05 3.01289604e-05 1.83070863e-05]\\n [0.00000000e+00 0.00000000e+00 2.40798864e-06 0.00000000e+00\\n  0.00000000e+00 1.90845237e-05 2.38222447e-06 0.00000000e+00\\n  0.00000000e+00 0.00000000e+00 7.21538772e-04 0.00000000e+00\\n  1.54153245e-04 3.62951867e-05 5.45212219e-05 2.58252769e-05]\\n [0.00000000e+00 3.99288784e-07 1.25357753e-05 1.43165409e-06\\n  0.00000000e+00 0.00000000e+00 0.00000000e+00 0.00000000e+00\\n  0.00000000e+00 0.00000000e+00 1.04848175e-05 8.95406289e-05\\n  0.00000000e+00 2.09746453e-04 4.35477415e-05 2.93736363e-05]\\n [0.00000000e+00 9.84246879e-06 6.42865191e-06 1.93452783e-05\\n  1.11312695e-06 0.00000000e+00 0.00000000e+00 1.14355597e-05\\n  0.00000000e+00 0.00000000e+00 3.49295690e-05 2.08585875e-05\\n  3.20449072e-04 0.00000000e+00 1.99677428e-04 1.77422644e-05]\\n [2.08843523e-06 0.00000000e+00 1.23994578e-05 0.00000000e+00\\n  0.00000000e+00 0.00000000e+00 0.00000000e+00 0.00000000e+00\\n  3.56879663e-06 0.00000000e+00 2.19064885e-05 3.21369930e-05\\n  4.25061497e-05 1.55382753e-04 0.00000000e+00 2.15223448e-04]\\n [2.91493536e-05 1.79958951e-05 0.00000000e+00 0.00000000e+00\\n  0.00000000e+00 1.27123609e-06 4.10057941e-06 0.00000000e+00\\n  0.00000000e+00 1.49576504e-06 0.00000000e+00 0.00000000e+00\\n  0.00000000e+00 0.00000000e+00 6.73238730e-04 0.00000000e+00]]</td></tr>\n",
       "</table></div>"
      ],
      "text/plain": [
       "<Table length=7>\n",
       "                                                                                                                                                                                                                                                                                                                                                                                                                                                                                                                                                                                                                                                                                                                                                                                                                                                                                                                                                                                                                                                                                                                                                                                                                                                                                                                                                                                                                                                                                                                                                                                                                                                                                                                                                                                                                                                                                                                                                                                                                                                                                                   calib_data                                                                                                                                                                                                                                                                                                                                                                                                                                                                                                                                                                                                                                                                                                                                                                                                                                                                                                                                                                                                                                                                                                                                                                                                                                                                                                                                                                                                                                                                                                                                                                                                                                                                                                                                                                                                                                                                                                                                                                                                                                                                                                  \n",
       "                                                                                                                                                                                                                                                                                                                                                                                                                                                                                                                                                                                                                                                                                                                                                                                                                                                                                                                                                                                                                                                                                                                                                                                                                                                                                                                                                                                                                                                                                                                                                                                                                                                                                                                                                                                                                                                                                                                                                                                                                                                                                                     object                                                                                                                                                                                                                                                                                                                                                                                                                                                                                                                                                                                                                                                                                                                                                                                                                                                                                                                                                                                                                                                                                                                                                                                                                                                                                                                                                                                                                                                                                                                                                                                                                                                                                                                                                                                                                                                                                                                                                                                                                                                                                                    \n",
       "---------------------------------------------------------------------------------------------------------------------------------------------------------------------------------------------------------------------------------------------------------------------------------------------------------------------------------------------------------------------------------------------------------------------------------------------------------------------------------------------------------------------------------------------------------------------------------------------------------------------------------------------------------------------------------------------------------------------------------------------------------------------------------------------------------------------------------------------------------------------------------------------------------------------------------------------------------------------------------------------------------------------------------------------------------------------------------------------------------------------------------------------------------------------------------------------------------------------------------------------------------------------------------------------------------------------------------------------------------------------------------------------------------------------------------------------------------------------------------------------------------------------------------------------------------------------------------------------------------------------------------------------------------------------------------------------------------------------------------------------------------------------------------------------------------------------------------------------------------------------------------------------------------------------------------------------------------------------------------------------------------------------------------------------------------------------------------------------------------------------------------------------------------------------------------------------------------------------------------------------------------------------------------------------------------------------------------------------------------------------------------------------------------------------------------------------------------------------------------------------------------------------------------------------------------------------------------------------------------------------------------------------------------------------------------------------------------------------------------------------------------------------------------------------------------------------------------------------------------------------------------------------------------------------------------------------------------------------------------------------------------------------------------------------------------------------------------------------------------------------------------------------------------------------------------------------------------------------------------------------------------------------------------------------------------------------------------------------------------------------------------------------------------------------------------------------------------------------------------------------------------------------------------------------------------------------------------------------------------------------------------------------------------------------------------------------------------------------------------------------------------------------------------------------------------------------------------------------------------------------------------------------------------------------------------------------------------------------------------------------------------------------------------------------------------------------------------------------------------------------------------------------------------------------------------------------------------------\n",
       "                                                                                                                                                                                                                                                                                                                                                                                                                                                                                                                                                                                                                                                                                                                                                                                                                                                                                                                                                                                                                                                                                                                                                                                                                                                                                                                                                                                                                                                                                                                                                                                                                                                                                                                                                                                                                                                                                                                                                                                                                                                                                                                                                                                                                                                                                                                                                                                                                                                                                                                                                                                                                                                                                                                                                                                                                                                                                                                                                                                                                                                                                                                                                                                                                                                                                                                                                                                                                                                                                                                                                                                                                                                                                                                                              [[0.5572045  0.5446379  0.54021287 ... 0.5387925  0.5418706  0.55454063]\\n [0.7214014  0.71764904 0.7174892  ... 0.6972188  0.707039   0.6988728 ]\\n [0.7837816  0.79516584 0.79410744 ... 0.7748249  0.77971786 0.757288  ]\\n ...\\n [0.7926851  0.7957241  0.8039826  ... 0.8150578  0.79769206 0.7882936 ]\\n [0.71867424 0.71907014 0.72177416 ... 0.7314326  0.7372414  0.72408205]\\n [0.56404746 0.5552264  0.5475206  ... 0.56067485 0.5628423  0.5809347 ]]\n",
       "                                                                                                                                                                                                                                                                                                                                                                                                                                                                                                                                                                                                                                                                                                                                                                                                                                                                                                                                                                                                                                                                                                                                                                                                                                                                                                                                                                                                                                                                                                                                                                                                                                                                                                                                                                                                                                                                                                                                                                                                                                                                                                                                                                                                                                                                                                                                                                                                                                                                                                                                                                                                                                                                                                                                                                                                                                                                                                                                                                                                                                                                                                                                                                                                                                                                                                                                                                                                                                                                                                                                                                                                                                                                                                                                              [[0.53118426 0.519401   0.51501966 ... 0.523724   0.526197   0.5394344 ]\\n [0.691123   0.68724287 0.6884574  ... 0.6790806  0.6878154  0.68083817]\\n [0.755341   0.76125145 0.7640907  ... 0.75186515 0.7645376  0.7465358 ]\\n ...\\n [0.79438263 0.79894364 0.80488753 ... 0.821287   0.80251116 0.7927004 ]\\n [0.72042406 0.71971893 0.7221339  ... 0.735372   0.738317   0.7286132 ]\\n [0.56558037 0.55305445 0.5434498  ... 0.5617544  0.56609994 0.5835881 ]]\n",
       "                                                                                                                                                                                                                                                                                                                                                                                                                                                                                                                                                                                                                                                                                                                                                                                                                                                                                                                                                                                                                                                                                                                                                                                                                                                                                                                                                                                                                                                                                                                                                                                                                                                                                                                                                                                                                                                                                                                                                                                                                                                                                                                                                                                                                                                                                                                                                                                                                                                                                                                                                                                                                                                                                                                                                                                                                                                                                                                                                                                                                                                                                                                                                                                                                                                                                                                                                                                                                                                                                                                                                                                                                                                                                                                                              [[0.5260515  0.5139311  0.50995296 ... 0.5309905  0.5298917  0.5407272 ]\\n [0.6835112  0.6787517  0.6790853  ... 0.6834096  0.6931233  0.6825336 ]\\n [0.74341047 0.7533898  0.7516927  ... 0.7511993  0.78599393 0.7658935 ]\\n ...\\n [0.78820646 0.79095745 0.7959417  ... 0.83513594 0.81707066 0.80618864]\\n [0.71549255 0.71323705 0.71430266 ... 0.74626124 0.754323   0.7410096 ]\\n [0.5611995  0.5487554  0.5415498  ... 0.5714623  0.5767249  0.59344417]]\n",
       "                                                                                                                                                                                                                                                                                                                                                                                                                                                                                                                                                                                                                                                                                                                                                                                                                                                                                                                                                                                                                                                                                                                                                                                                                                                                                                                                                                                                                                                                                                                                                                                                                                                                                                                                                                                                                                                                                                                                                                                                                                                                                                                                                                                                                                                                                                                                                                                                                                                                                                                                                                                                                                                                                                                                                                                                                                                                                                                                                                                                                                                                                                                                                                                                                                                                                                                                                                                                                                                                                                                                                                                                                                                                                                                                                                                                                                                                                                                                                                                                                                              [[1. 1. 1. ... 1. 1. 1.]\\n [1. 1. 1. ... 1. 1. 1.]\\n [1. 1. 1. ... 1. 1. 1.]\\n ...\\n [1. 1. 1. ... 1. 1. 1.]\\n [1. 1. 1. ... 1. 1. 1.]\\n [1. 1. 1. ... 1. 1. 1.]]\n",
       "                                                                                                                                                                                                                                                                                                                                                                                                                                                                                                                                                                                                                                                                                                                                                                                                                                                                                                                                                                                                                                                                                                                                                                                                                                                                                                                                                                                                                                                                                                                                                                                                                                                                                                                                                                                                                                                                                                                                                                                                                                                                                                                                                                                                                                                                                                                                                                                                                                                                                                                                                                                                                                                                                                                                                                                                                                                                                                                                                                                                                                                                                                                                                                                                                                                                                                                                                                                                                                                                                                                                                                                                                                                                                        [[-0.04168844  0.01879784  0.08123881 ... -0.05567029  0.05135338\\n  -0.13567556]\\n [-0.08550237  0.15162966 -0.03988761 ...  0.02317207  0.00714302\\n  -0.05432408]\\n [ 0.08084349 -0.02434086  0.13498765 ...  0.0096118   0.04453782\\n  -0.05088754]\\n ...\\n [ 0.01223799 -0.04325746  0.01373272 ... -0.03076998 -0.02112245\\n  -0.01964985]\\n [-0.10376193  0.01317381  0.01292841 ... -0.03830409 -0.06980523\\n  -0.02844927]\\n [-0.02564387 -0.05765276  0.04320485 ... -0.08425498  0.03273935\\n  -0.04208207]]\n",
       "                                                                                                                                                                                                                                                                                                                                                                                                                                                                                                                                                                                                                                                                                                                                                                                                                                                                                                                                                                                                                                                                                                                                                                                                                                                                                                                                                                                                                                                                                                                                                                                                                                                                                                                                                                                                                                                                                                                                                                                                                                                                                                                                                                                                                                                                                                                                                                                                                                                                                                                                                                                                                                                                                                                                                                                                                                                                                                                                                                                                                                                                                                                                                                                                                                                                                                                                                                                                                                                                                                                                                                                                                                                                                                [[-0.863276    0.2358092  -1.9689058  ...  0.1526779  -0.99787\\n   0.45491633]\\n [ 1.4115597  -2.9874005   0.9947448  ... -0.02571768 -0.6025105\\n   0.41385287]\\n [ 0.02563414 -0.85411876 -1.0665271  ... -0.12480616 -1.4756793\\n  -1.6286763 ]\\n ...\\n [ 0.37739453  1.0246592   0.56357753 ...  0.0176957  -0.2863406\\n  -1.4429235 ]\\n [ 2.5952399  -0.48002797  0.533927   ...  0.28111273  0.9175564\\n  -0.6560611 ]\\n [-0.7528054   1.2927809  -1.1560043  ...  1.4664497  -0.3218582\\n   0.19577381]]\n",
       "[[0.00000000e+00 1.35567350e-04 2.12072266e-05 8.52183217e-06\\n  3.48150040e-07 3.49318197e-06 1.77419743e-06 0.00000000e+00\\n  0.00000000e+00 0.00000000e+00 6.62398419e-08 0.00000000e+00\\n  0.00000000e+00 0.00000000e+00 2.86405942e-06 3.57817430e-05]\\n [2.06497854e-04 0.00000000e+00 2.20243043e-04 5.79033171e-05\\n  4.59381003e-05 2.80140977e-05 1.18616260e-05 1.63705736e-06\\n  0.00000000e+00 0.00000000e+00 0.00000000e+00 0.00000000e+00\\n  0.00000000e+00 2.83113295e-06 0.00000000e+00 2.66771957e-05]\\n [3.83107169e-05 2.39972276e-04 0.00000000e+00 2.17237245e-04\\n  6.14284722e-05 5.07460819e-05 6.38135915e-06 1.14019232e-06\\n  1.66811500e-07 0.00000000e+00 0.00000000e+00 0.00000000e+00\\n  1.04952278e-05 8.24884804e-07 1.44881867e-05 0.00000000e+00]\\n [3.54888816e-05 3.40231367e-05 3.58520001e-04 0.00000000e+00\\n  1.35303662e-04 3.30329719e-05 7.41672241e-06 0.00000000e+00\\n  0.00000000e+00 0.00000000e+00 0.00000000e+00 0.00000000e+00\\n  3.97106818e-07 2.29065423e-05 7.45236037e-06 0.00000000e+00]\\n [1.28023286e-05 4.17098182e-05 4.52879926e-05 1.91586800e-04\\n  0.00000000e+00 2.75243992e-04 0.00000000e+00 4.58455352e-06\\n  0.00000000e+00 1.19626703e-05 4.36748529e-05 0.00000000e+00\\n  0.00000000e+00 7.69800868e-06 0.00000000e+00 0.00000000e+00]\\n [3.59299484e-06 2.32679944e-05 4.22184379e-05 1.35286551e-05\\n  8.62249304e-04 0.00000000e+00 1.08008204e-04 7.52286553e-06\\n  2.69440219e-06 5.26742820e-06 1.10848610e-05 2.34962119e-05\\n  0.00000000e+00 0.00000000e+00 0.00000000e+00 4.94339146e-06]\\n [4.00179801e-07 4.41571374e-06 4.38923960e-06 0.00000000e+00\\n  0.00000000e+00 2.49640573e-04 0.00000000e+00 1.38559759e-04\\n  3.74647495e-06 1.60068272e-05 2.31154680e-05 1.03849010e-05\\n  0.00000000e+00 0.00000000e+00 0.00000000e+00 1.04155246e-06]\\n [0.00000000e+00 0.00000000e+00 0.00000000e+00 0.00000000e+00\\n  0.00000000e+00 0.00000000e+00 1.54178790e-03 0.00000000e+00\\n  3.35421410e-05 1.80072564e-05 0.00000000e+00 0.00000000e+00\\n  0.00000000e+00 0.00000000e+00 0.00000000e+00 0.00000000e+00]\\n [0.00000000e+00 1.45444042e-06 9.12221461e-06 0.00000000e+00\\n  0.00000000e+00 0.00000000e+00 0.00000000e+00 2.82050749e-06\\n  0.00000000e+00 1.39995129e-04 0.00000000e+00 0.00000000e+00\\n  0.00000000e+00 0.00000000e+00 1.19108343e-06 4.69852636e-07]\\n [1.21329997e-05 0.00000000e+00 0.00000000e+00 0.00000000e+00\\n  3.87596631e-06 1.37918367e-06 1.94593248e-05 1.41062429e-05\\n  3.27021492e-04 0.00000000e+00 1.90662053e-04 0.00000000e+00\\n  1.10223355e-05 1.48456276e-05 1.31345848e-05 1.48196282e-05]\\n [2.06831850e-05 0.00000000e+00 0.00000000e+00 0.00000000e+00\\n  4.28099195e-05 1.24336398e-05 2.29821654e-05 0.00000000e+00\\n  0.00000000e+00 6.59191014e-05 0.00000000e+00 5.10078868e-04\\n  2.96172066e-05 5.03530321e-05 3.01289604e-05 1.83070863e-05]\\n [0.00000000e+00 0.00000000e+00 2.40798864e-06 0.00000000e+00\\n  0.00000000e+00 1.90845237e-05 2.38222447e-06 0.00000000e+00\\n  0.00000000e+00 0.00000000e+00 7.21538772e-04 0.00000000e+00\\n  1.54153245e-04 3.62951867e-05 5.45212219e-05 2.58252769e-05]\\n [0.00000000e+00 3.99288784e-07 1.25357753e-05 1.43165409e-06\\n  0.00000000e+00 0.00000000e+00 0.00000000e+00 0.00000000e+00\\n  0.00000000e+00 0.00000000e+00 1.04848175e-05 8.95406289e-05\\n  0.00000000e+00 2.09746453e-04 4.35477415e-05 2.93736363e-05]\\n [0.00000000e+00 9.84246879e-06 6.42865191e-06 1.93452783e-05\\n  1.11312695e-06 0.00000000e+00 0.00000000e+00 1.14355597e-05\\n  0.00000000e+00 0.00000000e+00 3.49295690e-05 2.08585875e-05\\n  3.20449072e-04 0.00000000e+00 1.99677428e-04 1.77422644e-05]\\n [2.08843523e-06 0.00000000e+00 1.23994578e-05 0.00000000e+00\\n  0.00000000e+00 0.00000000e+00 0.00000000e+00 0.00000000e+00\\n  3.56879663e-06 0.00000000e+00 2.19064885e-05 3.21369930e-05\\n  4.25061497e-05 1.55382753e-04 0.00000000e+00 2.15223448e-04]\\n [2.91493536e-05 1.79958951e-05 0.00000000e+00 0.00000000e+00\\n  0.00000000e+00 1.27123609e-06 4.10057941e-06 0.00000000e+00\\n  0.00000000e+00 1.49576504e-06 0.00000000e+00 0.00000000e+00\\n  0.00000000e+00 0.00000000e+00 6.73238730e-04 0.00000000e+00]]"
      ]
     },
     "execution_count": 20,
     "metadata": {},
     "output_type": "execute_result"
    }
   ],
   "source": [
    "summary_table"
   ]
  },
  {
   "cell_type": "code",
   "execution_count": null,
   "id": "153becf9-b703-444a-a8c9-86d807848d7d",
   "metadata": {},
   "outputs": [],
   "source": []
  }
 ],
 "metadata": {
  "kernelspec": {
   "display_name": "LSST",
   "language": "python",
   "name": "lsst"
  },
  "language_info": {
   "codemirror_mode": {
    "name": "ipython",
    "version": 3
   },
   "file_extension": ".py",
   "mimetype": "text/x-python",
   "name": "python",
   "nbconvert_exporter": "python",
   "pygments_lexer": "ipython3",
   "version": "3.11.4"
  }
 },
 "nbformat": 4,
 "nbformat_minor": 5
}
