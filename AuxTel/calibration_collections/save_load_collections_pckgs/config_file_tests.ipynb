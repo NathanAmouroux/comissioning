{
 "cells": [
  {
   "cell_type": "code",
   "execution_count": 2,
   "id": "24ee640d-3817-481a-bc86-23e43d9c4477",
   "metadata": {
    "execution": {
     "iopub.execute_input": "2024-01-18T16:30:39.066071Z",
     "iopub.status.busy": "2024-01-18T16:30:39.065523Z",
     "iopub.status.idle": "2024-01-18T16:30:39.068151Z",
     "shell.execute_reply": "2024-01-18T16:30:39.067775Z",
     "shell.execute_reply.started": "2024-01-18T16:30:39.066054Z"
    }
   },
   "outputs": [],
   "source": [
    "import configparser\n",
    "import argparse"
   ]
  },
  {
   "cell_type": "code",
   "execution_count": 3,
   "id": "77916e32-8467-4da3-8661-a8185926abc8",
   "metadata": {
    "execution": {
     "iopub.execute_input": "2024-01-18T16:30:39.567536Z",
     "iopub.status.busy": "2024-01-18T16:30:39.567106Z",
     "iopub.status.idle": "2024-01-18T16:30:39.570463Z",
     "shell.execute_reply": "2024-01-18T16:30:39.570123Z",
     "shell.execute_reply.started": "2024-01-18T16:30:39.567520Z"
    }
   },
   "outputs": [
    {
     "data": {
      "text/plain": [
       "[]"
      ]
     },
     "execution_count": 3,
     "metadata": {},
     "output_type": "execute_result"
    }
   ],
   "source": [
    "config = configparser.ConfigParser()\n",
    "config.sections()"
   ]
  },
  {
   "cell_type": "code",
   "execution_count": 4,
   "id": "f9391673-6702-4c48-be7b-498b4d489285",
   "metadata": {
    "execution": {
     "iopub.execute_input": "2024-01-18T16:30:39.598785Z",
     "iopub.status.busy": "2024-01-18T16:30:39.598574Z",
     "iopub.status.idle": "2024-01-18T16:30:39.601784Z",
     "shell.execute_reply": "2024-01-18T16:30:39.601398Z",
     "shell.execute_reply.started": "2024-01-18T16:30:39.598772Z"
    }
   },
   "outputs": [
    {
     "name": "stdout",
     "output_type": "stream",
     "text": [
      "[Errno 2] No such file or directory: '/sdf/home/a/amouroux/public_html/AuxTel/'\n",
      "/sdf/data/rubin/user/amouroux/comissioning/AuxTel/calibration_collections/save_load_collections_pckgs\n"
     ]
    }
   ],
   "source": [
    "cd \"/sdf/home/a/amouroux/public_html/AuxTel/\""
   ]
  },
  {
   "cell_type": "code",
   "execution_count": 9,
   "id": "a94b57e6-c0a2-40b2-9e30-ea077806dba0",
   "metadata": {
    "execution": {
     "iopub.execute_input": "2024-01-18T16:31:13.115158Z",
     "iopub.status.busy": "2024-01-18T16:31:13.114830Z",
     "iopub.status.idle": "2024-01-18T16:31:13.120638Z",
     "shell.execute_reply": "2024-01-18T16:31:13.120192Z",
     "shell.execute_reply.started": "2024-01-18T16:31:13.115143Z"
    }
   },
   "outputs": [
    {
     "name": "stdout",
     "output_type": "stream",
     "text": [
      "/home/a/amouroux/public_html\n"
     ]
    }
   ],
   "source": [
    "cd ../../../../../../../../../home/a/amouroux/public_html/"
   ]
  },
  {
   "cell_type": "code",
   "execution_count": 10,
   "id": "46cc410f-2fb4-4b5b-9a1b-c26e2230adb5",
   "metadata": {
    "execution": {
     "iopub.execute_input": "2024-01-18T16:31:15.267305Z",
     "iopub.status.busy": "2024-01-18T16:31:15.266795Z",
     "iopub.status.idle": "2024-01-18T16:31:15.270319Z",
     "shell.execute_reply": "2024-01-18T16:31:15.269939Z",
     "shell.execute_reply.started": "2024-01-18T16:31:15.267288Z"
    }
   },
   "outputs": [
    {
     "data": {
      "text/plain": [
       "'/home/a/amouroux/public_html'"
      ]
     },
     "execution_count": 10,
     "metadata": {},
     "output_type": "execute_result"
    }
   ],
   "source": [
    "pwd"
   ]
  },
  {
   "cell_type": "code",
   "execution_count": 11,
   "id": "007f4aca-d801-4674-bb18-0f0d6f275925",
   "metadata": {
    "execution": {
     "iopub.execute_input": "2024-01-18T16:31:16.752734Z",
     "iopub.status.busy": "2024-01-18T16:31:16.752398Z",
     "iopub.status.idle": "2024-01-18T16:31:16.756117Z",
     "shell.execute_reply": "2024-01-18T16:31:16.755709Z",
     "shell.execute_reply.started": "2024-01-18T16:31:16.752718Z"
    },
    "scrolled": true
   },
   "outputs": [
    {
     "data": {
      "text/plain": [
       "['config.ini']"
      ]
     },
     "execution_count": 11,
     "metadata": {},
     "output_type": "execute_result"
    }
   ],
   "source": [
    "config.read(\"config.ini\")"
   ]
  },
  {
   "cell_type": "code",
   "execution_count": 12,
   "id": "f2c5f90d-0b5a-4411-8de1-c81bfb44dbe8",
   "metadata": {
    "execution": {
     "iopub.execute_input": "2024-01-18T16:31:18.529063Z",
     "iopub.status.busy": "2024-01-18T16:31:18.528750Z",
     "iopub.status.idle": "2024-01-18T16:31:18.531965Z",
     "shell.execute_reply": "2024-01-18T16:31:18.531616Z",
     "shell.execute_reply.started": "2024-01-18T16:31:18.529048Z"
    }
   },
   "outputs": [
    {
     "data": {
      "text/plain": [
       "['Paths']"
      ]
     },
     "execution_count": 12,
     "metadata": {},
     "output_type": "execute_result"
    }
   ],
   "source": [
    "config.sections()"
   ]
  },
  {
   "cell_type": "code",
   "execution_count": null,
   "id": "17983442-761e-471b-8422-81da804e7107",
   "metadata": {},
   "outputs": [],
   "source": []
  },
  {
   "cell_type": "code",
   "execution_count": null,
   "id": "f59d12a5-149c-4265-b8dd-9b48993b9f95",
   "metadata": {},
   "outputs": [],
   "source": []
  },
  {
   "cell_type": "code",
   "execution_count": null,
   "id": "2875a7fc-282a-4141-af8a-ae93ee744dc2",
   "metadata": {},
   "outputs": [],
   "source": []
  },
  {
   "cell_type": "code",
   "execution_count": null,
   "id": "ded1c337-b9d3-4ff7-8755-fdba8841fc96",
   "metadata": {},
   "outputs": [],
   "source": []
  }
 ],
 "metadata": {
  "kernelspec": {
   "display_name": "LSST",
   "language": "python",
   "name": "lsst"
  },
  "language_info": {
   "codemirror_mode": {
    "name": "ipython",
    "version": 3
   },
   "file_extension": ".py",
   "mimetype": "text/x-python",
   "name": "python",
   "nbconvert_exporter": "python",
   "pygments_lexer": "ipython3",
   "version": "3.11.4"
  }
 },
 "nbformat": 4,
 "nbformat_minor": 5
}
