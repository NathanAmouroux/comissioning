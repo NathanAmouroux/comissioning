{
 "cells": [
  {
   "cell_type": "code",
   "execution_count": 1,
   "id": "5ce33da5-0834-44cf-ab6a-44bf1da5c443",
   "metadata": {
    "execution": {
     "iopub.execute_input": "2024-03-08T15:20:05.239592Z",
     "iopub.status.busy": "2024-03-08T15:20:05.239218Z",
     "iopub.status.idle": "2024-03-08T15:20:05.737292Z",
     "shell.execute_reply": "2024-03-08T15:20:05.736798Z",
     "shell.execute_reply.started": "2024-03-08T15:20:05.239570Z"
    }
   },
   "outputs": [],
   "source": [
    "import sys\n",
    "sys.path.append('../save_calibrations_data/')\n",
    "import find_by_chain"
   ]
  },
  {
   "cell_type": "markdown",
   "id": "ba411963-4f00-4f1a-85ef-0eaaf302b21e",
   "metadata": {},
   "source": [
    "First module we do not really want to call except if we want to test things by hand. Here we will give a collection and try to get a calibration from it."
   ]
  },
  {
   "cell_type": "code",
   "execution_count": 2,
   "id": "9898bd5d-6871-4cbd-a474-9372aea16633",
   "metadata": {
    "execution": {
     "iopub.execute_input": "2024-03-08T15:20:06.508270Z",
     "iopub.status.busy": "2024-03-08T15:20:06.507995Z",
     "iopub.status.idle": "2024-03-08T15:20:06.511260Z",
     "shell.execute_reply": "2024-03-08T15:20:06.510841Z",
     "shell.execute_reply.started": "2024-03-08T15:20:06.508253Z"
    }
   },
   "outputs": [],
   "source": [
    "get_coll = find_by_chain.get_collections(collection = 'LATISS/runs/AUXTEL_DRP_IMAGING_2023-11A-10A-09AB-08ABC-07AB-05AB/w_2023_46/PREOPS-4553', calib = \"flat-i\", repo = 'embargo', exp = 'LATISS')"
   ]
  },
  {
   "cell_type": "code",
   "execution_count": 3,
   "id": "95ad787c-1cfc-4eab-8cd8-0fa2fda1597e",
   "metadata": {
    "execution": {
     "iopub.execute_input": "2024-03-08T15:20:07.245665Z",
     "iopub.status.busy": "2024-03-08T15:20:07.245147Z",
     "iopub.status.idle": "2024-03-08T15:20:08.206606Z",
     "shell.execute_reply": "2024-03-08T15:20:08.206145Z",
     "shell.execute_reply.started": "2024-03-08T15:20:07.245649Z"
    },
    "scrolled": true
   },
   "outputs": [
    {
     "name": "stdout",
     "output_type": "stream",
     "text": [
      "Found flat-i. Its name is LATISS/calib/DM-41633/flat-i\n"
     ]
    }
   ],
   "source": [
    "results = get_coll.find_datasets()"
   ]
  },
  {
   "cell_type": "code",
   "execution_count": 4,
   "id": "77a2e94e-972d-47f0-9088-391b9d07859b",
   "metadata": {
    "execution": {
     "iopub.execute_input": "2024-03-08T15:20:08.214061Z",
     "iopub.status.busy": "2024-03-08T15:20:08.213925Z",
     "iopub.status.idle": "2024-03-08T15:20:08.216646Z",
     "shell.execute_reply": "2024-03-08T15:20:08.216300Z",
     "shell.execute_reply.started": "2024-03-08T15:20:08.214047Z"
    }
   },
   "outputs": [
    {
     "data": {
      "text/plain": [
       "[DatasetRef(DatasetType('flat', {band, instrument, detector, physical_filter}, ExposureF, isCalibration=True), {instrument: 'LATISS', detector: 0, physical_filter: 'empty~SDSSi_65mm', band: 'i'}, run='LATISS/calib/DM-41633/flatGen-i.20231107a/20231107T201619Z', id=a0279de4-c2a1-4bd7-8d68-1a1d49a7191b)]"
      ]
     },
     "execution_count": 4,
     "metadata": {},
     "output_type": "execute_result"
    }
   ],
   "source": [
    "results"
   ]
  },
  {
   "cell_type": "markdown",
   "id": "e81e7020-d5df-4ecc-88c3-856b9fc17a12",
   "metadata": {},
   "source": [
    "But sometime calibration might not exist"
   ]
  },
  {
   "cell_type": "code",
   "execution_count": 5,
   "id": "015824ab-5bf9-4c2c-8d8d-17617a472204",
   "metadata": {
    "execution": {
     "iopub.execute_input": "2024-03-08T15:20:08.217620Z",
     "iopub.status.busy": "2024-03-08T15:20:08.217391Z",
     "iopub.status.idle": "2024-03-08T15:20:08.389055Z",
     "shell.execute_reply": "2024-03-08T15:20:08.388534Z",
     "shell.execute_reply.started": "2024-03-08T15:20:08.217607Z"
    }
   },
   "outputs": [
    {
     "name": "stdout",
     "output_type": "stream",
     "text": [
      "Calibration flat-u not found.\n",
      "The above exception has been raised \u001b[91mflat-u does not exist in this collection\u001b[0m\n"
     ]
    }
   ],
   "source": [
    "get_coll = find_by_chain.get_collections(collection = 'LATISS/runs/AUXTEL_DRP_IMAGING_2023-11A-10A-09AB-08ABC-07AB-05AB/w_2023_46/PREOPS-4553', calib = \"flat-u\")\n",
    "results = get_coll.find_datasets()"
   ]
  },
  {
   "cell_type": "markdown",
   "id": "8829aae9-5b64-4db7-9ffb-f28de765c1f8",
   "metadata": {},
   "source": [
    "It is more interesting to open these calibrations datasets. It can be done automatically with the following module."
   ]
  },
  {
   "cell_type": "code",
   "execution_count": 6,
   "id": "697ec2e3-ae1b-45b5-ad09-d58e3daef8dc",
   "metadata": {
    "execution": {
     "iopub.execute_input": "2024-03-08T15:20:09.148836Z",
     "iopub.status.busy": "2024-03-08T15:20:09.148300Z",
     "iopub.status.idle": "2024-03-08T15:20:09.157237Z",
     "shell.execute_reply": "2024-03-08T15:20:09.156844Z",
     "shell.execute_reply.started": "2024-03-08T15:20:09.148821Z"
    }
   },
   "outputs": [],
   "source": [
    "import save_dataset"
   ]
  },
  {
   "cell_type": "markdown",
   "id": "5717c37e-7d96-42d1-9aa8-1526ff2e604d",
   "metadata": {},
   "source": [
    "Init module"
   ]
  },
  {
   "cell_type": "code",
   "execution_count": 7,
   "id": "38daa905-bfb3-4c82-a59e-c8855bae95dc",
   "metadata": {
    "execution": {
     "iopub.execute_input": "2024-03-08T15:20:10.635986Z",
     "iopub.status.busy": "2024-03-08T15:20:10.635492Z",
     "iopub.status.idle": "2024-03-08T15:20:10.656424Z",
     "shell.execute_reply": "2024-03-08T15:20:10.656023Z",
     "shell.execute_reply.started": "2024-03-08T15:20:10.635971Z"
    }
   },
   "outputs": [],
   "source": [
    "datas = save_dataset.Data(collection = 'LATISS/runs/AUXTEL_DRP_IMAGING_2023-11A-10A-09AB-08ABC-07AB-05AB/w_2023_46/PREOPS-4553', calib = \"flat-i\", detector = 0, repo = 'embargo', exp = \"LATISS\", is_chained = True)"
   ]
  },
  {
   "cell_type": "markdown",
   "id": "651f1aaa-3b3d-4439-8599-1825bb6b38bf",
   "metadata": {},
   "source": [
    "get_datasets_method might be reberbative from before but it will be usefull when we want to access datasets from metadata or with different method."
   ]
  },
  {
   "cell_type": "code",
   "execution_count": 9,
   "id": "d0000f9e-c86d-4bf1-b50c-14670ac5fdf5",
   "metadata": {
    "execution": {
     "iopub.execute_input": "2024-03-08T15:20:13.405246Z",
     "iopub.status.busy": "2024-03-08T15:20:13.404847Z",
     "iopub.status.idle": "2024-03-08T15:20:13.838205Z",
     "shell.execute_reply": "2024-03-08T15:20:13.837806Z",
     "shell.execute_reply.started": "2024-03-08T15:20:13.405228Z"
    }
   },
   "outputs": [
    {
     "name": "stdout",
     "output_type": "stream",
     "text": [
      "Found flat-i. Its name is LATISS/calib/DM-41633/flat-i\n"
     ]
    },
    {
     "data": {
      "text/plain": [
       "DatasetRef(DatasetType('flat', {band, instrument, detector, physical_filter}, ExposureF, isCalibration=True), {instrument: 'LATISS', detector: 0, physical_filter: 'empty~SDSSi_65mm', band: 'i'}, run='LATISS/calib/DM-41633/flatGen-i.20231107a/20231107T201619Z', id=a0279de4-c2a1-4bd7-8d68-1a1d49a7191b)"
      ]
     },
     "execution_count": 9,
     "metadata": {},
     "output_type": "execute_result"
    }
   ],
   "source": [
    "datas.get_datasets()"
   ]
  },
  {
   "cell_type": "markdown",
   "id": "8d03b4f7-b514-4bb6-9818-bf3288efe9e0",
   "metadata": {},
   "source": [
    "Open corresponding dataset"
   ]
  },
  {
   "cell_type": "code",
   "execution_count": 10,
   "id": "ed8f6fa0-112d-42c7-96d4-275c9f73149a",
   "metadata": {
    "execution": {
     "iopub.execute_input": "2024-03-08T15:23:47.101210Z",
     "iopub.status.busy": "2024-03-08T15:23:47.100871Z",
     "iopub.status.idle": "2024-03-08T15:23:49.691522Z",
     "shell.execute_reply": "2024-03-08T15:23:49.691045Z",
     "shell.execute_reply.started": "2024-03-08T15:23:47.101195Z"
    }
   },
   "outputs": [
    {
     "name": "stdout",
     "output_type": "stream",
     "text": [
      "Found flat-i. Its name is LATISS/calib/DM-41633/flat-i\n"
     ]
    }
   ],
   "source": [
    "calib_data = datas.open_datasets()"
   ]
  },
  {
   "cell_type": "code",
   "execution_count": 7,
   "id": "da01a2cf-db8b-46c0-ac64-d6a6dca2f370",
   "metadata": {
    "execution": {
     "iopub.execute_input": "2024-02-07T10:56:52.708578Z",
     "iopub.status.busy": "2024-02-07T10:56:52.708266Z",
     "iopub.status.idle": "2024-02-07T10:56:53.647801Z",
     "shell.execute_reply": "2024-02-07T10:56:53.647338Z",
     "shell.execute_reply.started": "2024-02-07T10:56:52.708563Z"
    }
   },
   "outputs": [
    {
     "name": "stdout",
     "output_type": "stream",
     "text": [
      "Found defects. Its name is LATISS/calib/DM-40904//defects\n"
     ]
    },
    {
     "data": {
      "text/html": [
       "<div><i>Table length=1341</i>\n",
       "<table id=\"table140560248732368\" class=\"table-striped table-bordered table-condensed\">\n",
       "<thead><tr><th>x0</th><th>y0</th><th>width</th><th>height</th></tr></thead>\n",
       "<thead><tr><th>int64</th><th>int64</th><th>int64</th><th>int64</th></tr></thead>\n",
       "<tr><td>1568</td><td>7</td><td>2</td><td>2</td></tr>\n",
       "<tr><td>1570</td><td>8</td><td>1</td><td>2</td></tr>\n",
       "<tr><td>2148</td><td>7</td><td>1</td><td>143</td></tr>\n",
       "<tr><td>1635</td><td>11</td><td>1</td><td>1</td></tr>\n",
       "<tr><td>1827</td><td>13</td><td>2</td><td>1</td></tr>\n",
       "<tr><td>1706</td><td>14</td><td>1</td><td>1</td></tr>\n",
       "<tr><td>2500</td><td>17</td><td>2</td><td>1</td></tr>\n",
       "<tr><td>1985</td><td>21</td><td>1</td><td>4</td></tr>\n",
       "<tr><td>1984</td><td>22</td><td>1</td><td>3</td></tr>\n",
       "<tr><td>1986</td><td>22</td><td>1</td><td>2</td></tr>\n",
       "<tr><td>...</td><td>...</td><td>...</td><td>...</td></tr>\n",
       "<tr><td>2827</td><td>3959</td><td>1</td><td>2</td></tr>\n",
       "<tr><td>2312</td><td>3966</td><td>2</td><td>1</td></tr>\n",
       "<tr><td>3683</td><td>3980</td><td>1</td><td>1</td></tr>\n",
       "<tr><td>1981</td><td>3987</td><td>2</td><td>3</td></tr>\n",
       "<tr><td>1983</td><td>3988</td><td>1</td><td>2</td></tr>\n",
       "<tr><td>4061</td><td>3989</td><td>2</td><td>1</td></tr>\n",
       "<tr><td>4059</td><td>3990</td><td>3</td><td>1</td></tr>\n",
       "<tr><td>4058</td><td>3991</td><td>3</td><td>1</td></tr>\n",
       "<tr><td>4057</td><td>3992</td><td>3</td><td>1</td></tr>\n",
       "<tr><td>2792</td><td>3992</td><td>1</td><td>1</td></tr>\n",
       "</table></div>"
      ],
      "text/plain": [
       "<Table length=1341>\n",
       "  x0    y0  width height\n",
       "int64 int64 int64 int64 \n",
       "----- ----- ----- ------\n",
       " 1568     7     2      2\n",
       " 1570     8     1      2\n",
       " 2148     7     1    143\n",
       " 1635    11     1      1\n",
       " 1827    13     2      1\n",
       " 1706    14     1      1\n",
       " 2500    17     2      1\n",
       " 1985    21     1      4\n",
       " 1984    22     1      3\n",
       " 1986    22     1      2\n",
       "  ...   ...   ...    ...\n",
       " 2827  3959     1      2\n",
       " 2312  3966     2      1\n",
       " 3683  3980     1      1\n",
       " 1981  3987     2      3\n",
       " 1983  3988     1      2\n",
       " 4061  3989     2      1\n",
       " 4059  3990     3      1\n",
       " 4058  3991     3      1\n",
       " 4057  3992     3      1\n",
       " 2792  3992     1      1"
      ]
     },
     "execution_count": 7,
     "metadata": {},
     "output_type": "execute_result"
    }
   ],
   "source": [
    "datas.get_defects(collection = 'LATISS/runs/AUXTEL_DRP_IMAGING_2023-11A-10A-09AB-08ABC-07AB-05AB/w_2023_46/PREOPS-4553', calib = \"defects\", exp = \"LATISS\", is_chained = True, detector = 0)"
   ]
  }
 ],
 "metadata": {
  "kernelspec": {
   "display_name": "LSST",
   "language": "python",
   "name": "lsst"
  },
  "language_info": {
   "codemirror_mode": {
    "name": "ipython",
    "version": 3
   },
   "file_extension": ".py",
   "mimetype": "text/x-python",
   "name": "python",
   "nbconvert_exporter": "python",
   "pygments_lexer": "ipython3",
   "version": "3.11.7"
  }
 },
 "nbformat": 4,
 "nbformat_minor": 5
}
