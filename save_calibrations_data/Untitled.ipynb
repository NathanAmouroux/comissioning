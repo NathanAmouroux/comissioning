{
 "cells": [
  {
   "cell_type": "code",
   "execution_count": 1,
   "id": "5ce33da5-0834-44cf-ab6a-44bf1da5c443",
   "metadata": {
    "execution": {
     "iopub.execute_input": "2024-02-07T14:18:56.164211Z",
     "iopub.status.busy": "2024-02-07T14:18:56.164077Z",
     "iopub.status.idle": "2024-02-07T14:18:56.756189Z",
     "shell.execute_reply": "2024-02-07T14:18:56.755749Z",
     "shell.execute_reply.started": "2024-02-07T14:18:56.164198Z"
    }
   },
   "outputs": [],
   "source": [
    "import find_by_chain"
   ]
  },
  {
   "cell_type": "code",
   "execution_count": 2,
   "id": "9898bd5d-6871-4cbd-a474-9372aea16633",
   "metadata": {
    "execution": {
     "iopub.execute_input": "2024-02-07T14:18:58.086484Z",
     "iopub.status.busy": "2024-02-07T14:18:58.086177Z",
     "iopub.status.idle": "2024-02-07T14:18:58.089227Z",
     "shell.execute_reply": "2024-02-07T14:18:58.088831Z",
     "shell.execute_reply.started": "2024-02-07T14:18:58.086469Z"
    }
   },
   "outputs": [],
   "source": [
    "get_coll = find_by_chain.get_collections(collection = 'LATISS/runs/AUXTEL_DRP_IMAGING_2023-11A-10A-09AB-08ABC-07AB-05AB/w_2023_46/PREOPS-4553', calib = \"flat-u\")"
   ]
  },
  {
   "cell_type": "code",
   "execution_count": 3,
   "id": "95ad787c-1cfc-4eab-8cd8-0fa2fda1597e",
   "metadata": {
    "execution": {
     "iopub.execute_input": "2024-02-07T14:18:58.117195Z",
     "iopub.status.busy": "2024-02-07T14:18:58.117076Z",
     "iopub.status.idle": "2024-02-07T14:18:58.506887Z",
     "shell.execute_reply": "2024-02-07T14:18:58.506421Z",
     "shell.execute_reply.started": "2024-02-07T14:18:58.117184Z"
    },
    "scrolled": true
   },
   "outputs": [
    {
     "name": "stdout",
     "output_type": "stream",
     "text": [
      "Calibration flat-u not found.\n",
      "The above exception has been raised \u001b[91mflat-u does not exist in this collection\u001b[0m\n"
     ]
    }
   ],
   "source": [
    "results = get_coll.find_datasets()"
   ]
  },
  {
   "cell_type": "code",
   "execution_count": 4,
   "id": "77a2e94e-972d-47f0-9088-391b9d07859b",
   "metadata": {
    "execution": {
     "iopub.execute_input": "2024-02-07T14:18:58.507598Z",
     "iopub.status.busy": "2024-02-07T14:18:58.507469Z",
     "iopub.status.idle": "2024-02-07T14:18:58.509726Z",
     "shell.execute_reply": "2024-02-07T14:18:58.509351Z",
     "shell.execute_reply.started": "2024-02-07T14:18:58.507585Z"
    }
   },
   "outputs": [],
   "source": [
    "results"
   ]
  },
  {
   "cell_type": "code",
   "execution_count": 1,
   "id": "697ec2e3-ae1b-45b5-ad09-d58e3daef8dc",
   "metadata": {
    "execution": {
     "iopub.execute_input": "2024-02-07T10:56:11.083449Z",
     "iopub.status.busy": "2024-02-07T10:56:11.083329Z",
     "iopub.status.idle": "2024-02-07T10:56:11.683468Z",
     "shell.execute_reply": "2024-02-07T10:56:11.683058Z",
     "shell.execute_reply.started": "2024-02-07T10:56:11.083436Z"
    }
   },
   "outputs": [],
   "source": [
    "import save_datasets"
   ]
  },
  {
   "cell_type": "code",
   "execution_count": 2,
   "id": "38daa905-bfb3-4c82-a59e-c8855bae95dc",
   "metadata": {
    "execution": {
     "iopub.execute_input": "2024-02-07T10:56:11.684164Z",
     "iopub.status.busy": "2024-02-07T10:56:11.684025Z",
     "iopub.status.idle": "2024-02-07T10:56:11.686530Z",
     "shell.execute_reply": "2024-02-07T10:56:11.686176Z",
     "shell.execute_reply.started": "2024-02-07T10:56:11.684151Z"
    }
   },
   "outputs": [],
   "source": [
    "datas = save_datasets.datas()"
   ]
  },
  {
   "cell_type": "code",
   "execution_count": 3,
   "id": "d0000f9e-c86d-4bf1-b50c-14670ac5fdf5",
   "metadata": {
    "execution": {
     "iopub.execute_input": "2024-02-07T10:56:11.687087Z",
     "iopub.status.busy": "2024-02-07T10:56:11.686957Z",
     "iopub.status.idle": "2024-02-07T10:56:12.477250Z",
     "shell.execute_reply": "2024-02-07T10:56:12.476852Z",
     "shell.execute_reply.started": "2024-02-07T10:56:11.687076Z"
    }
   },
   "outputs": [
    {
     "name": "stdout",
     "output_type": "stream",
     "text": [
      "Found flat-i. Its name is LATISS/calib/DM-41633/flat-i\n"
     ]
    },
    {
     "data": {
      "text/plain": [
       "DatasetRef(DatasetType('flat', {band, instrument, detector, physical_filter}, ExposureF, isCalibration=True), {instrument: 'LATISS', detector: 0, physical_filter: 'empty~SDSSi_65mm', band: 'i'}, run='LATISS/calib/DM-41633/flatGen-i.20231107a/20231107T201619Z', id=a0279de4-c2a1-4bd7-8d68-1a1d49a7191b)"
      ]
     },
     "execution_count": 3,
     "metadata": {},
     "output_type": "execute_result"
    }
   ],
   "source": [
    "datas.get_datasets(collection = 'LATISS/runs/AUXTEL_DRP_IMAGING_2023-11A-10A-09AB-08ABC-07AB-05AB/w_2023_46/PREOPS-4553', calib = \"flat-i\", exp = \"LATISS\", is_chained = True)"
   ]
  },
  {
   "cell_type": "code",
   "execution_count": 4,
   "id": "ed8f6fa0-112d-42c7-96d4-275c9f73149a",
   "metadata": {
    "execution": {
     "iopub.execute_input": "2024-02-07T10:56:13.746271Z",
     "iopub.status.busy": "2024-02-07T10:56:13.745895Z",
     "iopub.status.idle": "2024-02-07T10:56:16.021549Z",
     "shell.execute_reply": "2024-02-07T10:56:16.021059Z",
     "shell.execute_reply.started": "2024-02-07T10:56:13.746255Z"
    }
   },
   "outputs": [
    {
     "name": "stdout",
     "output_type": "stream",
     "text": [
      "Found flat-i. Its name is LATISS/calib/DM-41633/flat-i\n"
     ]
    }
   ],
   "source": [
    "dataaaa = datas.open_datasets(collection = 'LATISS/runs/AUXTEL_DRP_IMAGING_2023-11A-10A-09AB-08ABC-07AB-05AB/w_2023_46/PREOPS-4553', calib = \"flat-i\", exp = \"LATISS\", is_chained = True, detector = 0)"
   ]
  },
  {
   "cell_type": "code",
   "execution_count": 7,
   "id": "da01a2cf-db8b-46c0-ac64-d6a6dca2f370",
   "metadata": {
    "execution": {
     "iopub.execute_input": "2024-02-07T10:56:52.708578Z",
     "iopub.status.busy": "2024-02-07T10:56:52.708266Z",
     "iopub.status.idle": "2024-02-07T10:56:53.647801Z",
     "shell.execute_reply": "2024-02-07T10:56:53.647338Z",
     "shell.execute_reply.started": "2024-02-07T10:56:52.708563Z"
    }
   },
   "outputs": [
    {
     "name": "stdout",
     "output_type": "stream",
     "text": [
      "Found defects. Its name is LATISS/calib/DM-40904//defects\n"
     ]
    },
    {
     "data": {
      "text/html": [
       "<div><i>Table length=1341</i>\n",
       "<table id=\"table140560248732368\" class=\"table-striped table-bordered table-condensed\">\n",
       "<thead><tr><th>x0</th><th>y0</th><th>width</th><th>height</th></tr></thead>\n",
       "<thead><tr><th>int64</th><th>int64</th><th>int64</th><th>int64</th></tr></thead>\n",
       "<tr><td>1568</td><td>7</td><td>2</td><td>2</td></tr>\n",
       "<tr><td>1570</td><td>8</td><td>1</td><td>2</td></tr>\n",
       "<tr><td>2148</td><td>7</td><td>1</td><td>143</td></tr>\n",
       "<tr><td>1635</td><td>11</td><td>1</td><td>1</td></tr>\n",
       "<tr><td>1827</td><td>13</td><td>2</td><td>1</td></tr>\n",
       "<tr><td>1706</td><td>14</td><td>1</td><td>1</td></tr>\n",
       "<tr><td>2500</td><td>17</td><td>2</td><td>1</td></tr>\n",
       "<tr><td>1985</td><td>21</td><td>1</td><td>4</td></tr>\n",
       "<tr><td>1984</td><td>22</td><td>1</td><td>3</td></tr>\n",
       "<tr><td>1986</td><td>22</td><td>1</td><td>2</td></tr>\n",
       "<tr><td>...</td><td>...</td><td>...</td><td>...</td></tr>\n",
       "<tr><td>2827</td><td>3959</td><td>1</td><td>2</td></tr>\n",
       "<tr><td>2312</td><td>3966</td><td>2</td><td>1</td></tr>\n",
       "<tr><td>3683</td><td>3980</td><td>1</td><td>1</td></tr>\n",
       "<tr><td>1981</td><td>3987</td><td>2</td><td>3</td></tr>\n",
       "<tr><td>1983</td><td>3988</td><td>1</td><td>2</td></tr>\n",
       "<tr><td>4061</td><td>3989</td><td>2</td><td>1</td></tr>\n",
       "<tr><td>4059</td><td>3990</td><td>3</td><td>1</td></tr>\n",
       "<tr><td>4058</td><td>3991</td><td>3</td><td>1</td></tr>\n",
       "<tr><td>4057</td><td>3992</td><td>3</td><td>1</td></tr>\n",
       "<tr><td>2792</td><td>3992</td><td>1</td><td>1</td></tr>\n",
       "</table></div>"
      ],
      "text/plain": [
       "<Table length=1341>\n",
       "  x0    y0  width height\n",
       "int64 int64 int64 int64 \n",
       "----- ----- ----- ------\n",
       " 1568     7     2      2\n",
       " 1570     8     1      2\n",
       " 2148     7     1    143\n",
       " 1635    11     1      1\n",
       " 1827    13     2      1\n",
       " 1706    14     1      1\n",
       " 2500    17     2      1\n",
       " 1985    21     1      4\n",
       " 1984    22     1      3\n",
       " 1986    22     1      2\n",
       "  ...   ...   ...    ...\n",
       " 2827  3959     1      2\n",
       " 2312  3966     2      1\n",
       " 3683  3980     1      1\n",
       " 1981  3987     2      3\n",
       " 1983  3988     1      2\n",
       " 4061  3989     2      1\n",
       " 4059  3990     3      1\n",
       " 4058  3991     3      1\n",
       " 4057  3992     3      1\n",
       " 2792  3992     1      1"
      ]
     },
     "execution_count": 7,
     "metadata": {},
     "output_type": "execute_result"
    }
   ],
   "source": [
    "datas.get_defects(collection = 'LATISS/runs/AUXTEL_DRP_IMAGING_2023-11A-10A-09AB-08ABC-07AB-05AB/w_2023_46/PREOPS-4553', calib = \"defects\", exp = \"LATISS\", is_chained = True, detector = 0)"
   ]
  }
 ],
 "metadata": {
  "kernelspec": {
   "display_name": "LSST",
   "language": "python",
   "name": "lsst"
  },
  "language_info": {
   "codemirror_mode": {
    "name": "ipython",
    "version": 3
   },
   "file_extension": ".py",
   "mimetype": "text/x-python",
   "name": "python",
   "nbconvert_exporter": "python",
   "pygments_lexer": "ipython3",
   "version": "3.11.7"
  }
 },
 "nbformat": 4,
 "nbformat_minor": 5
}
